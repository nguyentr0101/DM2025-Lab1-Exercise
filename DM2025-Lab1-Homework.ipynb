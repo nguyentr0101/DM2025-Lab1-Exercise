{
 "cells": [
  {
   "cell_type": "markdown",
   "metadata": {},
   "source": [
    "### Student Information\n",
    "Name: Truong Ngoc Khoi Nguyen\n",
    "\n",
    "Student ID: D142113032\n",
    "\n",
    "GitHub ID: nguyentr0101"
   ]
  },
  {
   "cell_type": "markdown",
   "metadata": {},
   "source": [
    "---"
   ]
  },
  {
   "cell_type": "markdown",
   "metadata": {},
   "source": [
    "### Instructions"
   ]
  },
  {
   "cell_type": "markdown",
   "metadata": {},
   "source": [
    "### First Phase Submission"
   ]
  },
  {
   "cell_type": "markdown",
   "metadata": {},
   "source": [
    "1. First: do the **take home** exercises in the [DM2025-Lab1-Master](https://github.com/leoson-wu/DM2025-Lab1-Exercise/blob/main/DM2025-Lab1-Master.ipynb) that considered as **phase 1 (from exercise 1 to exercise 15)**. You can answer in the master file. __This part is worth 10% of your grade.__\n",
    "\n",
    "\n",
    "2. Second: follow the same process from the [DM2025-Lab1-Master](https://github.com/leoson-wu/DM2025-Lab1-Exercise/blob/main/DM2025-Lab1-Master.ipynb) on **the new dataset** up **until phase 1**. You can skip some exercises if you think some steps are not necessary. However main exercises should be completed. You don't need to explain all details as we did (some **minimal comments** explaining your code are useful though).  __This part is worth 15% of your grade.__\n",
    "    -  Use [the new dataset](https://github.com/leoson-wu/DM2025-Lab1-Exercise/blob/main/newdataset/Reddit-stock-sentiment.csv). The dataset contains a 16 columns including 'text' and 'label', with the sentiment labels being: 1.0 is positive, 0.0 is neutral and -1.0 is negative. You can simplify the dataset and use only the columns that you think are necessary. \n",
    "    \n",
    "    - You are allowed to use and modify the `helper` functions in the folder of the first lab session (notice they may need modification) or create your own.\n",
    "    - Use this file to complete the homework from the second part. Make sure the code can be run from the beginning till the end and has all the needed output.\n",
    "\n",
    "\n",
    "3. Third: please attempt the following tasks on **the new dataset**. __This part is worth 10% of your grade.__\n",
    "    - Generate meaningful **new data visualizations**. Refer to online resources and the Data Mining textbook for inspiration and ideas. \n",
    "    \n",
    "\n",
    "\n",
    "4. Fourth: It's hard for us to follow if your code is messy, so please **tidy up your notebook** and **add minimal comments where needed**. __This part is worth 5% of your grade.__\n",
    "\n",
    "You can submit your homework following these guidelines: [DM2025-Lab1-announcement](https://github.com/leoson-wu/DM2025-Lab1-Announcement/blob/main/README.md). Make sure to commit and save your changes to your repository __BEFORE the deadline (September 28th 11:59 pm, Sunday)__. "
   ]
  },
  {
   "cell_type": "markdown",
   "metadata": {},
   "source": [
    "### Second Phase Submission "
   ]
  },
  {
   "cell_type": "markdown",
   "metadata": {},
   "source": [
    "**You can keep the answer for phase 1 for easier running and update the phase 2 on the same page.**\n",
    "\n",
    "1. First: Continue doing the **take home** exercises in the [DM2025-Lab1-Master](https://github.com/leoson-wu/DM2025-Lab1-Exercise/blob/main/DM2025-Lab1-Master.ipynb) for **phase 2, starting from Finding frequent patterns**. Use the same master(.ipynb) file. Answer from phase 1 will not be considered at this stage. You can answer in the master file. __This part is worth 10% of your grade.__\n",
    "\n",
    "\n",
    "2. Second: Continue from first phase and do the same process from the [DM2025-Lab1-Master](https://github.com/leoson-wu/DM2025-Lab1-Exercise/blob/main/DM2025-Lab1-Master.ipynb) on **the new dataset** for phase 2, starting from Finding frequent pattern. You can skip some exercises if you think some steps are not necessary. However main exercises should be completed. You don't need to explain all details as we did (some **minimal comments** explaining your code are useful though).  __This part is worth 15% of your grade.__\n",
    "    - Continue using this file to complete the homework from the second part. Make sure the code can be run from the beginning till the end and has all the needed output. Use the same new dataset as in phase 1.\n",
    "    \n",
    "    - You are allowed to use and modify the `helper` functions in the folder of the first lab session (notice they may need modification) or create your own.\n",
    "\n",
    "3. Third: please attempt the following tasks on **the new dataset**. __This part is worth 20% of your grade.__\n",
    "    - Use this file to answer.\n",
    "    - Generate **TF-IDF features** from the tokens of each text. This will generating a document matrix, however, the weights will be computed differently (using the TF-IDF value of each word per document as opposed to the word frequency).  Refer to this Scikit-learn [guide](http://scikit-learn.org/stable/modules/generated/sklearn.feature_extraction.text.TfidfVectorizer.html) .\n",
    "    - Implement a simple **Naive Bayes classifier** that automatically classifies the records into their categories. Use both the TF-IDF features and word frequency features to build two seperate classifiers. Note that for the TF-IDF features you might need to use other type of NB classifier different than the one in the Master Notebook. Comment on the differences and when using augmentation with feature pattern.  Refer to this [article](https://hub.packtpub.com/implementing-3-naive-bayes-classifiers-in-scikit-learn/).\n",
    "\n",
    "\n",
    "4. Fourth: In the lab, we applied each step really quickly just to illustrate how to work with your dataset. There are somethings that are not ideal or the most efficient/meaningful. Each dataset can be handled differently as well. What are those inefficent parts you noticed? How can you improve the Data preprocessing for these specific datasets? __This part is worth 10% of your grade.__\n",
    "\n",
    "\n",
    "5. Fifth: It's hard for us to follow if your code is messy, so please **tidy up your notebook** and **add minimal comments where needed**. __This part is worth 5% of your grade.__\n",
    "\n",
    "\n",
    "You can submit your homework following these guidelines: [DM2025-Lab1-announcement](https://github.com/leoson-wu/DM2025-Lab1-Announcement/blob/main/README.md). Make sure to commit and save your changes to your repository __BEFORE the deadline (October 19th 11:59 pm, Sunday)__. "
   ]
  },
  {
   "cell_type": "markdown",
   "metadata": {},
   "source": [
    "# Phase 1"
   ]
  },
  {
   "cell_type": "code",
   "metadata": {
    "ExecuteTime": {
     "end_time": "2025-10-26T10:29:57.428674Z",
     "start_time": "2025-10-26T10:29:57.396007Z"
    }
   },
   "source": [
    "### Begin Assignment Here\n",
    "import pandas as pd\n",
    "import numpy as np\n",
    "import nltk\n",
    "nltk.download('punkt') # download the NLTK datasets\n",
    "from sklearn.datasets import fetch_20newsgroups\n",
    "from sklearn.feature_extraction.text import CountVectorizer\n",
    "import plotly as py\n",
    "import math"
   ],
   "outputs": [
    {
     "name": "stderr",
     "output_type": "stream",
     "text": [
      "[nltk_data] Downloading package punkt to\n",
      "[nltk_data]     C:\\Users\\User\\AppData\\Roaming\\nltk_data...\n",
      "[nltk_data]   Package punkt is already up-to-date!\n"
     ]
    }
   ],
   "execution_count": 8
  },
  {
   "metadata": {
    "ExecuteTime": {
     "end_time": "2025-10-26T10:29:58.311709Z",
     "start_time": "2025-10-26T10:29:57.446631Z"
    }
   },
   "cell_type": "code",
   "source": [
    "# If you get \"ModuleNotFoundError: No module named 'PAMI'\"\n",
    "# run the following in a new Jupyter cell:\n",
    "!pip3 install PAMI\n",
    "import PAMI\n",
    "import umap"
   ],
   "outputs": [
    {
     "name": "stdout",
     "output_type": "stream",
     "text": [
      "Requirement already satisfied: PAMI in d:\\nguyennktruong\\dm2025labs\\dm2025-lab1-exercise\\.venv\\lib\\site-packages (2025.7.3.1)\n",
      "Requirement already satisfied: psutil in d:\\nguyennktruong\\dm2025labs\\dm2025-lab1-exercise\\.venv\\lib\\site-packages (from PAMI) (7.0.0)\n",
      "Requirement already satisfied: pandas in d:\\nguyennktruong\\dm2025labs\\dm2025-lab1-exercise\\.venv\\lib\\site-packages (from PAMI) (2.3.2)\n",
      "Requirement already satisfied: plotly in d:\\nguyennktruong\\dm2025labs\\dm2025-lab1-exercise\\.venv\\lib\\site-packages (from PAMI) (6.3.0)\n",
      "Requirement already satisfied: matplotlib in d:\\nguyennktruong\\dm2025labs\\dm2025-lab1-exercise\\.venv\\lib\\site-packages (from PAMI) (3.9.4)\n",
      "Requirement already satisfied: resource in d:\\nguyennktruong\\dm2025labs\\dm2025-lab1-exercise\\.venv\\lib\\site-packages (from PAMI) (0.2.1)\n",
      "Requirement already satisfied: validators in d:\\nguyennktruong\\dm2025labs\\dm2025-lab1-exercise\\.venv\\lib\\site-packages (from PAMI) (0.35.0)\n",
      "Requirement already satisfied: urllib3 in d:\\nguyennktruong\\dm2025labs\\dm2025-lab1-exercise\\.venv\\lib\\site-packages (from PAMI) (2.5.0)\n",
      "Requirement already satisfied: Pillow in d:\\nguyennktruong\\dm2025labs\\dm2025-lab1-exercise\\.venv\\lib\\site-packages (from PAMI) (11.3.0)\n",
      "Requirement already satisfied: numpy in d:\\nguyennktruong\\dm2025labs\\dm2025-lab1-exercise\\.venv\\lib\\site-packages (from PAMI) (2.0.2)\n",
      "Requirement already satisfied: sphinx in d:\\nguyennktruong\\dm2025labs\\dm2025-lab1-exercise\\.venv\\lib\\site-packages (from PAMI) (7.4.7)\n",
      "Requirement already satisfied: sphinx-rtd-theme in d:\\nguyennktruong\\dm2025labs\\dm2025-lab1-exercise\\.venv\\lib\\site-packages (from PAMI) (3.0.2)\n",
      "Requirement already satisfied: discord.py in d:\\nguyennktruong\\dm2025labs\\dm2025-lab1-exercise\\.venv\\lib\\site-packages (from PAMI) (2.6.0)\n",
      "Requirement already satisfied: networkx in d:\\nguyennktruong\\dm2025labs\\dm2025-lab1-exercise\\.venv\\lib\\site-packages (from PAMI) (3.2.1)\n",
      "Requirement already satisfied: deprecated in d:\\nguyennktruong\\dm2025labs\\dm2025-lab1-exercise\\.venv\\lib\\site-packages (from PAMI) (1.2.18)\n",
      "Requirement already satisfied: fastparquet in d:\\nguyennktruong\\dm2025labs\\dm2025-lab1-exercise\\.venv\\lib\\site-packages (from PAMI) (2024.11.0)\n",
      "Requirement already satisfied: wrapt<2,>=1.10 in d:\\nguyennktruong\\dm2025labs\\dm2025-lab1-exercise\\.venv\\lib\\site-packages (from deprecated->PAMI) (1.17.3)\n",
      "Requirement already satisfied: aiohttp<4,>=3.7.4 in d:\\nguyennktruong\\dm2025labs\\dm2025-lab1-exercise\\.venv\\lib\\site-packages (from discord.py->PAMI) (3.12.15)\n",
      "Requirement already satisfied: aiohappyeyeballs>=2.5.0 in d:\\nguyennktruong\\dm2025labs\\dm2025-lab1-exercise\\.venv\\lib\\site-packages (from aiohttp<4,>=3.7.4->discord.py->PAMI) (2.6.1)\n",
      "Requirement already satisfied: aiosignal>=1.4.0 in d:\\nguyennktruong\\dm2025labs\\dm2025-lab1-exercise\\.venv\\lib\\site-packages (from aiohttp<4,>=3.7.4->discord.py->PAMI) (1.4.0)\n",
      "Requirement already satisfied: attrs>=17.3.0 in d:\\nguyennktruong\\dm2025labs\\dm2025-lab1-exercise\\.venv\\lib\\site-packages (from aiohttp<4,>=3.7.4->discord.py->PAMI) (25.3.0)\n",
      "Requirement already satisfied: frozenlist>=1.1.1 in d:\\nguyennktruong\\dm2025labs\\dm2025-lab1-exercise\\.venv\\lib\\site-packages (from aiohttp<4,>=3.7.4->discord.py->PAMI) (1.7.0)\n",
      "Requirement already satisfied: multidict<7.0,>=4.5 in d:\\nguyennktruong\\dm2025labs\\dm2025-lab1-exercise\\.venv\\lib\\site-packages (from aiohttp<4,>=3.7.4->discord.py->PAMI) (6.6.4)\n",
      "Requirement already satisfied: propcache>=0.2.0 in d:\\nguyennktruong\\dm2025labs\\dm2025-lab1-exercise\\.venv\\lib\\site-packages (from aiohttp<4,>=3.7.4->discord.py->PAMI) (0.3.2)\n",
      "Requirement already satisfied: yarl<2.0,>=1.17.0 in d:\\nguyennktruong\\dm2025labs\\dm2025-lab1-exercise\\.venv\\lib\\site-packages (from aiohttp<4,>=3.7.4->discord.py->PAMI) (1.20.1)\n",
      "Requirement already satisfied: idna>=2.0 in d:\\nguyennktruong\\dm2025labs\\dm2025-lab1-exercise\\.venv\\lib\\site-packages (from yarl<2.0,>=1.17.0->aiohttp<4,>=3.7.4->discord.py->PAMI) (3.10)\n",
      "Requirement already satisfied: typing-extensions>=4.2 in d:\\nguyennktruong\\dm2025labs\\dm2025-lab1-exercise\\.venv\\lib\\site-packages (from aiosignal>=1.4.0->aiohttp<4,>=3.7.4->discord.py->PAMI) (4.14.1)\n",
      "Requirement already satisfied: cramjam>=2.3 in d:\\nguyennktruong\\dm2025labs\\dm2025-lab1-exercise\\.venv\\lib\\site-packages (from fastparquet->PAMI) (2.11.0)\n",
      "Requirement already satisfied: fsspec in d:\\nguyennktruong\\dm2025labs\\dm2025-lab1-exercise\\.venv\\lib\\site-packages (from fastparquet->PAMI) (2025.7.0)\n",
      "Requirement already satisfied: packaging in d:\\nguyennktruong\\dm2025labs\\dm2025-lab1-exercise\\.venv\\lib\\site-packages (from fastparquet->PAMI) (25.0)\n",
      "Requirement already satisfied: python-dateutil>=2.8.2 in d:\\nguyennktruong\\dm2025labs\\dm2025-lab1-exercise\\.venv\\lib\\site-packages (from pandas->PAMI) (2.9.0.post0)\n",
      "Requirement already satisfied: pytz>=2020.1 in d:\\nguyennktruong\\dm2025labs\\dm2025-lab1-exercise\\.venv\\lib\\site-packages (from pandas->PAMI) (2025.2)\n",
      "Requirement already satisfied: tzdata>=2022.7 in d:\\nguyennktruong\\dm2025labs\\dm2025-lab1-exercise\\.venv\\lib\\site-packages (from pandas->PAMI) (2025.2)\n",
      "Requirement already satisfied: six>=1.5 in d:\\nguyennktruong\\dm2025labs\\dm2025-lab1-exercise\\.venv\\lib\\site-packages (from python-dateutil>=2.8.2->pandas->PAMI) (1.17.0)\n",
      "Requirement already satisfied: contourpy>=1.0.1 in d:\\nguyennktruong\\dm2025labs\\dm2025-lab1-exercise\\.venv\\lib\\site-packages (from matplotlib->PAMI) (1.3.0)\n",
      "Requirement already satisfied: cycler>=0.10 in d:\\nguyennktruong\\dm2025labs\\dm2025-lab1-exercise\\.venv\\lib\\site-packages (from matplotlib->PAMI) (0.12.1)\n",
      "Requirement already satisfied: fonttools>=4.22.0 in d:\\nguyennktruong\\dm2025labs\\dm2025-lab1-exercise\\.venv\\lib\\site-packages (from matplotlib->PAMI) (4.59.1)\n",
      "Requirement already satisfied: kiwisolver>=1.3.1 in d:\\nguyennktruong\\dm2025labs\\dm2025-lab1-exercise\\.venv\\lib\\site-packages (from matplotlib->PAMI) (1.4.7)\n",
      "Requirement already satisfied: pyparsing>=2.3.1 in d:\\nguyennktruong\\dm2025labs\\dm2025-lab1-exercise\\.venv\\lib\\site-packages (from matplotlib->PAMI) (3.2.3)\n",
      "Requirement already satisfied: narwhals>=1.15.1 in d:\\nguyennktruong\\dm2025labs\\dm2025-lab1-exercise\\.venv\\lib\\site-packages (from plotly->PAMI) (2.1.2)\n",
      "Requirement already satisfied: JsonForm>=0.0.2 in d:\\nguyennktruong\\dm2025labs\\dm2025-lab1-exercise\\.venv\\lib\\site-packages (from resource->PAMI) (0.0.2)\n",
      "Requirement already satisfied: JsonSir>=0.0.2 in d:\\nguyennktruong\\dm2025labs\\dm2025-lab1-exercise\\.venv\\lib\\site-packages (from resource->PAMI) (0.0.2)\n",
      "Requirement already satisfied: python-easyconfig>=0.1.0 in d:\\nguyennktruong\\dm2025labs\\dm2025-lab1-exercise\\.venv\\lib\\site-packages (from resource->PAMI) (0.1.7)\n",
      "Requirement already satisfied: jsonschema in d:\\nguyennktruong\\dm2025labs\\dm2025-lab1-exercise\\.venv\\lib\\site-packages (from JsonForm>=0.0.2->resource->PAMI) (4.25.1)\n",
      "Requirement already satisfied: PyYAML in d:\\nguyennktruong\\dm2025labs\\dm2025-lab1-exercise\\.venv\\lib\\site-packages (from python-easyconfig>=0.1.0->resource->PAMI) (6.0.2)\n",
      "Requirement already satisfied: jsonschema-specifications>=2023.03.6 in d:\\nguyennktruong\\dm2025labs\\dm2025-lab1-exercise\\.venv\\lib\\site-packages (from jsonschema->JsonForm>=0.0.2->resource->PAMI) (2025.4.1)\n",
      "Requirement already satisfied: referencing>=0.28.4 in d:\\nguyennktruong\\dm2025labs\\dm2025-lab1-exercise\\.venv\\lib\\site-packages (from jsonschema->JsonForm>=0.0.2->resource->PAMI) (0.36.2)\n",
      "Requirement already satisfied: rpds-py>=0.7.1 in d:\\nguyennktruong\\dm2025labs\\dm2025-lab1-exercise\\.venv\\lib\\site-packages (from jsonschema->JsonForm>=0.0.2->resource->PAMI) (0.27.0)\n",
      "Requirement already satisfied: sphinxcontrib-applehelp in d:\\nguyennktruong\\dm2025labs\\dm2025-lab1-exercise\\.venv\\lib\\site-packages (from sphinx->PAMI) (2.0.0)\n",
      "Requirement already satisfied: sphinxcontrib-devhelp in d:\\nguyennktruong\\dm2025labs\\dm2025-lab1-exercise\\.venv\\lib\\site-packages (from sphinx->PAMI) (2.0.0)\n",
      "Requirement already satisfied: sphinxcontrib-jsmath in d:\\nguyennktruong\\dm2025labs\\dm2025-lab1-exercise\\.venv\\lib\\site-packages (from sphinx->PAMI) (1.0.1)\n",
      "Requirement already satisfied: sphinxcontrib-htmlhelp>=2.0.0 in d:\\nguyennktruong\\dm2025labs\\dm2025-lab1-exercise\\.venv\\lib\\site-packages (from sphinx->PAMI) (2.1.0)\n",
      "Requirement already satisfied: sphinxcontrib-serializinghtml>=1.1.9 in d:\\nguyennktruong\\dm2025labs\\dm2025-lab1-exercise\\.venv\\lib\\site-packages (from sphinx->PAMI) (2.0.0)\n",
      "Requirement already satisfied: sphinxcontrib-qthelp in d:\\nguyennktruong\\dm2025labs\\dm2025-lab1-exercise\\.venv\\lib\\site-packages (from sphinx->PAMI) (2.0.0)\n",
      "Requirement already satisfied: Jinja2>=3.1 in d:\\nguyennktruong\\dm2025labs\\dm2025-lab1-exercise\\.venv\\lib\\site-packages (from sphinx->PAMI) (3.1.6)\n",
      "Requirement already satisfied: Pygments>=2.17 in d:\\nguyennktruong\\dm2025labs\\dm2025-lab1-exercise\\.venv\\lib\\site-packages (from sphinx->PAMI) (2.19.2)\n",
      "Requirement already satisfied: docutils<0.22,>=0.20 in d:\\nguyennktruong\\dm2025labs\\dm2025-lab1-exercise\\.venv\\lib\\site-packages (from sphinx->PAMI) (0.21.2)\n",
      "Requirement already satisfied: snowballstemmer>=2.2 in d:\\nguyennktruong\\dm2025labs\\dm2025-lab1-exercise\\.venv\\lib\\site-packages (from sphinx->PAMI) (3.0.1)\n",
      "Requirement already satisfied: babel>=2.13 in d:\\nguyennktruong\\dm2025labs\\dm2025-lab1-exercise\\.venv\\lib\\site-packages (from sphinx->PAMI) (2.17.0)\n",
      "Requirement already satisfied: alabaster~=0.7.14 in d:\\nguyennktruong\\dm2025labs\\dm2025-lab1-exercise\\.venv\\lib\\site-packages (from sphinx->PAMI) (0.7.16)\n",
      "Requirement already satisfied: imagesize>=1.3 in d:\\nguyennktruong\\dm2025labs\\dm2025-lab1-exercise\\.venv\\lib\\site-packages (from sphinx->PAMI) (1.4.1)\n",
      "Requirement already satisfied: requests>=2.30.0 in d:\\nguyennktruong\\dm2025labs\\dm2025-lab1-exercise\\.venv\\lib\\site-packages (from sphinx->PAMI) (2.32.5)\n",
      "Requirement already satisfied: colorama>=0.4.6 in d:\\nguyennktruong\\dm2025labs\\dm2025-lab1-exercise\\.venv\\lib\\site-packages (from sphinx->PAMI) (0.4.6)\n",
      "Requirement already satisfied: MarkupSafe>=2.0 in d:\\nguyennktruong\\dm2025labs\\dm2025-lab1-exercise\\.venv\\lib\\site-packages (from Jinja2>=3.1->sphinx->PAMI) (3.0.2)\n",
      "Requirement already satisfied: charset_normalizer<4,>=2 in d:\\nguyennktruong\\dm2025labs\\dm2025-lab1-exercise\\.venv\\lib\\site-packages (from requests>=2.30.0->sphinx->PAMI) (3.4.3)\n",
      "Requirement already satisfied: certifi>=2017.4.17 in d:\\nguyennktruong\\dm2025labs\\dm2025-lab1-exercise\\.venv\\lib\\site-packages (from requests>=2.30.0->sphinx->PAMI) (2025.8.3)\n",
      "Requirement already satisfied: sphinxcontrib-jquery<5,>=4 in d:\\nguyennktruong\\dm2025labs\\dm2025-lab1-exercise\\.venv\\lib\\site-packages (from sphinx-rtd-theme->PAMI) (4.1)\n"
     ]
    },
    {
     "name": "stderr",
     "output_type": "stream",
     "text": [
      "\n",
      "[notice] A new release of pip is available: 25.1.1 -> 25.3\n",
      "[notice] To update, run: python.exe -m pip install --upgrade pip\n"
     ]
    }
   ],
   "execution_count": 9
  },
  {
   "metadata": {
    "ExecuteTime": {
     "end_time": "2025-10-26T10:29:58.377968Z",
     "start_time": "2025-10-26T10:29:58.350738Z"
    }
   },
   "cell_type": "code",
   "source": [
    "DATA_PATH = \"newdataset/Reddit-stock-sentiment.csv\"\n",
    "df= pd.read_csv(DATA_PATH)\n",
    "\n",
    "print(\"\\nFirst 5 records:\")\n",
    "print(df.head())\n",
    "\n",
    "print(\"\\nData types:\")\n",
    "print(df.dtypes)\n",
    "\n",
    "text_columns = df.select_dtypes(include=['object']).columns.tolist()\n",
    "print(f\"\\nText columns found: {text_columns}\")\n",
    "\n",
    "# Keep only what we need\n",
    "X = pd.DataFrame()\n",
    "X['text'] = df['title'] + ' ' + df['text']  # Combine title and text\n",
    "X['category'] = df['label']  # Numerical label\n",
    "X['category_name'] = df['label'].map({-1: 'negative', 0: 'neutral', 1: 'positive'})\n",
    "\n",
    "print(f\"Dataset shape: {X.shape}\")\n",
    "print(f\"\\nCategory distribution:\")\n",
    "print(X['category_name'].value_counts())\n"
   ],
   "outputs": [
    {
     "name": "stdout",
     "output_type": "stream",
     "text": [
      "\n",
      "First 5 records:\n",
      "      type             datetime  post_id         subreddit  \\\n",
      "0  comment  2025-04-11 17:29:56  mmli62w    wallstreetbets   \n",
      "1  comment   2025-04-12 1:12:19  mmnu7v9    wallstreetbets   \n",
      "2  comment  2025-04-10 15:09:41  mmeevio       StockMarket   \n",
      "3     post  2023-08-30 17:12:55  165kllm  stockstobuytoday   \n",
      "4  comment  2025-04-11 14:48:05  mmkl6bw       StockMarket   \n",
      "\n",
      "                                               title                author  \\\n",
      "0    Retardation is on the menu boys! WSB is so back          StickyTip420   \n",
      "1  Retail giant TARGET has now declined for 10 co...  Comfortable-Dog-8437   \n",
      "2  How do you feel about a sitting president maki...          Btankersly66   \n",
      "3                              Who knows more? $VMAR             emiljenfn   \n",
      "4  The Trump administration is begging Xi Jinping...          Just-Big6411   \n",
      "\n",
      "                                                 url  upvotes  downvotes  \\\n",
      "0               https://i.redd.it/0yq2ftren8ue1.jpeg        0        NaN   \n",
      "1               https://i.redd.it/7tl6puv9waue1.jpeg      -15        NaN   \n",
      "2  https://apnews.com/article/trump-truth-social-...        1        NaN   \n",
      "3  https://www.reddit.com/r/stockstobuytoday/comm...       30        0.0   \n",
      "4  https://edition.cnn.com/2025/04/10/politics/tr...        1        NaN   \n",
      "\n",
      "   upvote_ratio                                               text  \\\n",
      "0           NaN                                   Calls on retards   \n",
      "1           NaN  Stunt as in like why did they even make a big ...   \n",
      "2           NaN                  Seeing lots of red in the ticker.   \n",
      "3          0.98  Vision Marine Technologies Inc. is rewriting t...   \n",
      "4           NaN                           He didn’t say thank you.   \n",
      "\n",
      "   subjectivity  polarity  sentiment  \\\n",
      "0      1.000000 -0.900000       -1.0   \n",
      "1      0.177778  0.083333        1.0   \n",
      "2      0.000000  0.000000        0.0   \n",
      "3      0.646970  0.216383        1.0   \n",
      "4      0.000000  0.000000        0.0   \n",
      "\n",
      "                                            entities  label  \n",
      "0                                                 []   -1.0  \n",
      "1              ['Stunt', 'company', 'deal', 'place']    0.0  \n",
      "2                                         ['ticker']    0.0  \n",
      "3  ['watercraft', 'skill', 'power', ']', 'feat', ...    1.0  \n",
      "4                                                 []   -1.0  \n",
      "\n",
      "Data types:\n",
      "type             object\n",
      "datetime         object\n",
      "post_id          object\n",
      "subreddit        object\n",
      "title            object\n",
      "author           object\n",
      "url              object\n",
      "upvotes           int64\n",
      "downvotes       float64\n",
      "upvote_ratio    float64\n",
      "text             object\n",
      "subjectivity    float64\n",
      "polarity        float64\n",
      "sentiment       float64\n",
      "entities         object\n",
      "label           float64\n",
      "dtype: object\n",
      "\n",
      "Text columns found: ['type', 'datetime', 'post_id', 'subreddit', 'title', 'author', 'url', 'text', 'entities']\n",
      "Dataset shape: (847, 3)\n",
      "\n",
      "Category distribution:\n",
      "category_name\n",
      "neutral     423\n",
      "negative    315\n",
      "positive    109\n",
      "Name: count, dtype: int64\n"
     ]
    }
   ],
   "execution_count": 10
  },
  {
   "metadata": {
    "ExecuteTime": {
     "end_time": "2025-10-26T10:29:58.402384Z",
     "start_time": "2025-10-26T10:29:58.393929Z"
    }
   },
   "cell_type": "code",
   "source": [
    "# ==========================================\n",
    "# Exercise 1\n",
    "# ==========================================\n",
    "# Print out the text data for the first three samples in the dataset\n",
    "print(\"\\nFirst 3 samples in the dataset:\")\n",
    "for i in range(3):\n",
    "    print(f\"example {i+1}\")\n",
    "    print(X['text'][i])\n",
    "    print()\n",
    "\n",
    "# Display sample texts\n",
    "print(\"\\nSample texts from each category:\")\n",
    "for category in X['category_name'].unique():\n",
    "    if pd.notna(category):\n",
    "        sample = X[X['category_name'] == category].iloc[0]['text']\n",
    "        print(f\"\\n{category}:\")\n",
    "        print(sample[:200] + \"...\" if len(str(sample)) > 200 else sample)"
   ],
   "outputs": [
    {
     "name": "stdout",
     "output_type": "stream",
     "text": [
      "\n",
      "First 3 samples in the dataset:\n",
      "example 1\n",
      "Retardation is on the menu boys! WSB is so back Calls on retards\n",
      "\n",
      "example 2\n",
      "Retail giant TARGET has now declined for 10 consecutive weeks, its longest losing streak in history Stunt as in like why did they even make a big deal about starting it in the first place? No company should ever talk about politics ever.\n",
      "\n",
      "example 3\n",
      "How do you feel about a sitting president making $415M in one day after pumping his own stock with social media and a policy decision? Seeing lots of red in the ticker.\n",
      "\n",
      "\n",
      "Sample texts from each category:\n",
      "\n",
      "negative:\n",
      "Retardation is on the menu boys! WSB is so back Calls on retards\n",
      "\n",
      "neutral:\n",
      "Retail giant TARGET has now declined for 10 consecutive weeks, its longest losing streak in history Stunt as in like why did they even make a big deal about starting it in the first place? No company ...\n",
      "\n",
      "positive:\n",
      "Who knows more? $VMAR Vision Marine Technologies Inc. is rewriting the watercraft rulebook. Their collaboration with Shaun Torrente has achieved the unthinkable – a blazing 116 mph on water! This isn'...\n"
     ]
    }
   ],
   "execution_count": 11
  },
  {
   "metadata": {
    "ExecuteTime": {
     "end_time": "2025-10-26T10:29:58.441738Z",
     "start_time": "2025-10-26T10:29:58.428317Z"
    }
   },
   "cell_type": "code",
   "source": [
    "# ==========================================\n",
    "# Exercise 2\n",
    "# ==========================================\n",
    "X.loc[0:10, [\"text\", \"category_name\"]]\n",
    "\n",
    "X[X[\"category_name\"] == \"positive\"].head(5)\n",
    "\n",
    "some_idx = [1, 81, 92, 100]\n",
    "X.loc[some_idx, [\"text\", \"category_name\"]]"
   ],
   "outputs": [
    {
     "data": {
      "text/plain": [
       "                                                  text category_name\n",
       "1    Retail giant TARGET has now declined for 10 co...       neutral\n",
       "81   Retardation is on the menu boys! WSB is so bac...      positive\n",
       "92   Data Shows US Allies—Not China—Dumping Treasur...       neutral\n",
       "100  The Trump administration is begging Xi Jinping...      negative"
      ],
      "text/html": [
       "<div>\n",
       "<style scoped>\n",
       "    .dataframe tbody tr th:only-of-type {\n",
       "        vertical-align: middle;\n",
       "    }\n",
       "\n",
       "    .dataframe tbody tr th {\n",
       "        vertical-align: top;\n",
       "    }\n",
       "\n",
       "    .dataframe thead th {\n",
       "        text-align: right;\n",
       "    }\n",
       "</style>\n",
       "<table border=\"1\" class=\"dataframe\">\n",
       "  <thead>\n",
       "    <tr style=\"text-align: right;\">\n",
       "      <th></th>\n",
       "      <th>text</th>\n",
       "      <th>category_name</th>\n",
       "    </tr>\n",
       "  </thead>\n",
       "  <tbody>\n",
       "    <tr>\n",
       "      <th>1</th>\n",
       "      <td>Retail giant TARGET has now declined for 10 co...</td>\n",
       "      <td>neutral</td>\n",
       "    </tr>\n",
       "    <tr>\n",
       "      <th>81</th>\n",
       "      <td>Retardation is on the menu boys! WSB is so bac...</td>\n",
       "      <td>positive</td>\n",
       "    </tr>\n",
       "    <tr>\n",
       "      <th>92</th>\n",
       "      <td>Data Shows US Allies—Not China—Dumping Treasur...</td>\n",
       "      <td>neutral</td>\n",
       "    </tr>\n",
       "    <tr>\n",
       "      <th>100</th>\n",
       "      <td>The Trump administration is begging Xi Jinping...</td>\n",
       "      <td>negative</td>\n",
       "    </tr>\n",
       "  </tbody>\n",
       "</table>\n",
       "</div>"
      ]
     },
     "execution_count": 12,
     "metadata": {},
     "output_type": "execute_result"
    }
   ],
   "execution_count": 12
  },
  {
   "metadata": {
    "ExecuteTime": {
     "end_time": "2025-10-26T10:29:58.508260Z",
     "start_time": "2025-10-26T10:29:58.498946Z"
    }
   },
   "cell_type": "code",
   "source": [
    "# ==========================================\n",
    "# Exercise 3\n",
    "# ==========================================\n",
    "# Fetch records belonging to 'positive' sentiment, query every 10th record, show first 5\n",
    "X[X[\"category_name\"] == \"positive\"][::10][0:5]\n",
    "# Fetch records belonging to 'negative' sentiment, query every 10th record, show first 5\n",
    "X[X[\"category_name\"] == \"negative\"][::10][0:5]"
   ],
   "outputs": [
    {
     "data": {
      "text/plain": [
       "                                                  text  category category_name\n",
       "0    Retardation is on the menu boys! WSB is so bac...      -1.0      negative\n",
       "25   Retail giant TARGET has now declined for 10 co...      -1.0      negative\n",
       "62   The Trump administration is begging Xi Jinping...      -1.0      negative\n",
       "95   Data Shows US Allies—Not China—Dumping Treasur...      -1.0      negative\n",
       "125  The Trump administration is begging Xi Jinping...      -1.0      negative"
      ],
      "text/html": [
       "<div>\n",
       "<style scoped>\n",
       "    .dataframe tbody tr th:only-of-type {\n",
       "        vertical-align: middle;\n",
       "    }\n",
       "\n",
       "    .dataframe tbody tr th {\n",
       "        vertical-align: top;\n",
       "    }\n",
       "\n",
       "    .dataframe thead th {\n",
       "        text-align: right;\n",
       "    }\n",
       "</style>\n",
       "<table border=\"1\" class=\"dataframe\">\n",
       "  <thead>\n",
       "    <tr style=\"text-align: right;\">\n",
       "      <th></th>\n",
       "      <th>text</th>\n",
       "      <th>category</th>\n",
       "      <th>category_name</th>\n",
       "    </tr>\n",
       "  </thead>\n",
       "  <tbody>\n",
       "    <tr>\n",
       "      <th>0</th>\n",
       "      <td>Retardation is on the menu boys! WSB is so bac...</td>\n",
       "      <td>-1.0</td>\n",
       "      <td>negative</td>\n",
       "    </tr>\n",
       "    <tr>\n",
       "      <th>25</th>\n",
       "      <td>Retail giant TARGET has now declined for 10 co...</td>\n",
       "      <td>-1.0</td>\n",
       "      <td>negative</td>\n",
       "    </tr>\n",
       "    <tr>\n",
       "      <th>62</th>\n",
       "      <td>The Trump administration is begging Xi Jinping...</td>\n",
       "      <td>-1.0</td>\n",
       "      <td>negative</td>\n",
       "    </tr>\n",
       "    <tr>\n",
       "      <th>95</th>\n",
       "      <td>Data Shows US Allies—Not China—Dumping Treasur...</td>\n",
       "      <td>-1.0</td>\n",
       "      <td>negative</td>\n",
       "    </tr>\n",
       "    <tr>\n",
       "      <th>125</th>\n",
       "      <td>The Trump administration is begging Xi Jinping...</td>\n",
       "      <td>-1.0</td>\n",
       "      <td>negative</td>\n",
       "    </tr>\n",
       "  </tbody>\n",
       "</table>\n",
       "</div>"
      ]
     },
     "execution_count": 13,
     "metadata": {},
     "output_type": "execute_result"
    }
   ],
   "execution_count": 13
  },
  {
   "metadata": {
    "ExecuteTime": {
     "end_time": "2025-10-26T10:29:58.907850Z",
     "start_time": "2025-10-26T10:29:58.870435Z"
    }
   },
   "cell_type": "code",
   "source": [
    "# ==========================================\n",
    "# Exercise 4\n",
    "# ==========================================\n",
    "# Check for missing values\n",
    "X.isnull().sum()\n",
    "\n",
    "# Check missing values per column with the helper function\n",
    "X.isnull().apply(lambda x: f\"Missing: {x.sum()}\")\n",
    "\n",
    "# Add a dummy record with missing value to test\n",
    "dummy_dict = [{'text': 'dummy stock comment',\n",
    "               'category': 1}]\n",
    "X = pd.concat([X, pd.DataFrame(dummy_dict)], ignore_index=True)\n",
    "X.isnull().sum() # Check again - should show some missing in category_name\n",
    "X.dropna(inplace=True) # Remove records with missing values\n",
    "X.isnull().sum() # Verify no missing values remain\n",
    "\n",
    "# Calculate missing values in every record instead of every column\n",
    "X.isnull().apply(lambda x: x.sum(), axis=1)"
   ],
   "outputs": [
    {
     "data": {
      "text/plain": [
       "0      0\n",
       "1      0\n",
       "2      0\n",
       "3      0\n",
       "4      0\n",
       "      ..\n",
       "842    0\n",
       "843    0\n",
       "844    0\n",
       "845    0\n",
       "846    0\n",
       "Length: 847, dtype: int64"
      ]
     },
     "execution_count": 14,
     "metadata": {},
     "output_type": "execute_result"
    }
   ],
   "execution_count": 14
  },
  {
   "metadata": {
    "ExecuteTime": {
     "end_time": "2025-10-26T10:29:58.956134Z",
     "start_time": "2025-10-26T10:29:58.949742Z"
    }
   },
   "cell_type": "code",
   "source": [
    "# ==========================================\n",
    "# Exercise 5\n",
    "# ==========================================\n",
    "NA_dict = [{ 'id': 'A', 'sentiment': np.nan },\n",
    "           { 'id': 'B' },\n",
    "           { 'id': 'C', 'sentiment': 'NaN'  },\n",
    "           { 'id': 'D', 'sentiment': 'None' },\n",
    "           { 'id': 'E', 'sentiment':  None  },\n",
    "           { 'id': 'F', 'sentiment': ''     }]\n",
    "\n",
    "NA_df = pd.DataFrame(NA_dict, columns = ['id','sentiment'])\n",
    "NA_df\n",
    "\n",
    "# Check which ones are detected as null\n",
    "NA_df['sentiment'].isnull()\n",
    "\n",
    "# .isnull() detects actual null values, not string representations.\n",
    "# A: np.nan → Real NaN value → .isnull() = True\n",
    "# B: Missing key → Fill with NaN → .isnull() = True\n",
    "# C: 'NaN' → \"NaN\" as text → .isnull() = False\n",
    "# D: 'None' → \"None\" as text → .isnull() = False\n",
    "# E: None → Python's None object → .isnull() = True\n",
    "# F: '' → Empty string is a valid string) → .isnull() = False"
   ],
   "outputs": [
    {
     "data": {
      "text/plain": [
       "0     True\n",
       "1     True\n",
       "2    False\n",
       "3    False\n",
       "4     True\n",
       "5    False\n",
       "Name: sentiment, dtype: bool"
      ]
     },
     "execution_count": 15,
     "metadata": {},
     "output_type": "execute_result"
    }
   ],
   "execution_count": 15
  },
  {
   "metadata": {
    "ExecuteTime": {
     "end_time": "2025-10-26T10:29:59.185658Z",
     "start_time": "2025-10-26T10:29:59.174101Z"
    }
   },
   "cell_type": "code",
   "source": [
    "# ==========================================\n",
    "# Exercise 6\n",
    "# ==========================================\n",
    "# Sampling\n",
    "X_sample = X.sample(n=500, random_state=42)\n",
    "print(f\"Original size: {len(X)}\")\n",
    "print(f\"Sample size: {len(X_sample)}\")\n",
    "# Check columns are same\n",
    "print(f\"Same columns: {X.columns.equals(X_sample.columns)}\")\n",
    "# Check index changes\n",
    "print(f\"Sample indices (first 5): {X_sample.index[:5].tolist()}\")\n",
    "# Compare distributions\n",
    "print(\"\\nOriginal distribution:\")\n",
    "print(X['category_name'].value_counts(normalize=True))\n",
    "print(\"\\nSample distribution:\")\n",
    "print(X_sample['category_name'].value_counts(normalize=True))\n",
    "\n",
    "# X_sample has 500 lines, while X has 847 lines, but they have the same columns\n",
    "# Data types and column names are unchanged, because X_sample is the subset of X\n",
    "# X_sample is chosen randomly, no replacement.\n",
    "# Row order is shuffled, but index label is preserved.\n",
    "# Category distribution of X_sample may different from X due to sample variability\n"
   ],
   "outputs": [
    {
     "name": "stdout",
     "output_type": "stream",
     "text": [
      "Original size: 847\n",
      "Sample size: 500\n",
      "Same columns: True\n",
      "Sample indices (first 5): [457, 342, 280, 275, 843]\n",
      "\n",
      "Original distribution:\n",
      "category_name\n",
      "neutral     0.499410\n",
      "negative    0.371901\n",
      "positive    0.128689\n",
      "Name: proportion, dtype: float64\n",
      "\n",
      "Sample distribution:\n",
      "category_name\n",
      "neutral     0.494\n",
      "negative    0.368\n",
      "positive    0.138\n",
      "Name: proportion, dtype: float64\n"
     ]
    }
   ],
   "execution_count": 16
  },
  {
   "metadata": {
    "ExecuteTime": {
     "end_time": "2025-10-26T10:29:59.536193Z",
     "start_time": "2025-10-26T10:29:59.269437Z"
    }
   },
   "cell_type": "code",
   "source": [
    "# ==========================================\n",
    "# Exercise 7\n",
    "# ==========================================\n",
    "# Whole dataset\n",
    "X['category_name'].value_counts().plot(\n",
    "    kind='bar',\n",
    "    title='Original Distribution',\n",
    "    ylim=[0, X['category_name'].value_counts().max() + 50],\n",
    "    rot=0, fontsize=12, figsize=(8,3)\n",
    ")\n",
    "\n",
    "# Sample\n",
    "X_sample.category_name.value_counts().plot(\n",
    "    kind='bar',\n",
    "    title='Category distribution',\n",
    "    ylim=[0, X_sample.category_name.value_counts().max() + 30],\n",
    "    rot=0, fontsize=12, figsize=(8, 3)\n",
    ")"
   ],
   "outputs": [
    {
     "data": {
      "text/plain": [
       "<Axes: title={'center': 'Category distribution'}, xlabel='category_name'>"
      ]
     },
     "execution_count": 17,
     "metadata": {},
     "output_type": "execute_result"
    },
    {
     "data": {
      "text/plain": [
       "<Figure size 800x300 with 1 Axes>"
      ],
      "image/png": "[encoded data removed]"
     },
     "metadata": {},
     "output_type": "display_data",
     "jetTransient": {
      "display_id": null
     }
    }
   ],
   "execution_count": 17
  },
  {
   "metadata": {
    "ExecuteTime": {
     "end_time": "2025-10-26T10:31:30.644947Z",
     "start_time": "2025-10-26T10:31:29.424487Z"
    }
   },
   "cell_type": "code",
   "source": [
    "# ==========================================\n",
    "# Exercise 8\n",
    "# ==========================================\n",
    "# Feature Creation\n",
    "import nltk\n",
    "nltk.download(\"punkt\")\n",
    "nltk.download(\"punkt_tab\")\n",
    "from sklearn.feature_extraction.text import CountVectorizer\n",
    "def tokenize_text(text):\n",
    "    return nltk.word_tokenize(str(text))\n",
    "X['unigrams'] = X['text'].apply(tokenize_text)\n",
    "# Display sample unigrams\n",
    "print(\"Sample unigrams from first 3 posts:\")\n",
    "for i in range(3):\n",
    "    print(f\"Post {i+1} (first 10 tokens): {X['unigrams'].iloc[i][:10]}\")\n",
    "\n",
    "# Side-by-side comparison of distributions\n",
    "df = pd.DataFrame({\n",
    "    \"X\": X['category_name'].value_counts(),\n",
    "    \"X_sample\": X_sample['category_name'].value_counts()\n",
    "}).fillna(0).astype(int)\n",
    "\n",
    "ax = df.plot(kind=\"bar\",\n",
    "             title=\"Category distribution\",\n",
    "             rot=0, fontsize=11, figsize=(8,5))\n",
    "\n",
    "ax.set_ylim(0, df.to_numpy().max() + 30)"
   ],
   "outputs": [
    {
     "name": "stderr",
     "output_type": "stream",
     "text": [
      "[nltk_data] Downloading package punkt to\n",
      "[nltk_data]     C:\\Users\\User\\AppData\\Roaming\\nltk_data...\n",
      "[nltk_data]   Package punkt is already up-to-date!\n",
      "[nltk_data] Downloading package punkt_tab to\n",
      "[nltk_data]     C:\\Users\\User\\AppData\\Roaming\\nltk_data...\n",
      "[nltk_data]   Unzipping tokenizers\\punkt_tab.zip.\n"
     ]
    },
    {
     "name": "stdout",
     "output_type": "stream",
     "text": [
      "Sample unigrams from first 3 posts:\n",
      "Post 1 (first 10 tokens): ['Retardation', 'is', 'on', 'the', 'menu', 'boys', '!', 'WSB', 'is', 'so']\n",
      "Post 2 (first 10 tokens): ['Retail', 'giant', 'TARGET', 'has', 'now', 'declined', 'for', '10', 'consecutive', 'weeks']\n",
      "Post 3 (first 10 tokens): ['How', 'do', 'you', 'feel', 'about', 'a', 'sitting', 'president', 'making', '$']\n"
     ]
    },
    {
     "data": {
      "text/plain": [
       "(0.0, 453.0)"
      ]
     },
     "execution_count": 19,
     "metadata": {},
     "output_type": "execute_result"
    },
    {
     "data": {
      "text/plain": [
       "<Figure size 800x500 with 1 Axes>"
      ],
      "image/png": "[encoded data removed]"
     },
     "metadata": {},
     "output_type": "display_data",
     "jetTransient": {
      "display_id": null
     }
    }
   ],
   "execution_count": 19
  },
  {
   "metadata": {
    "ExecuteTime": {
     "end_time": "2025-10-26T10:31:37.107500Z",
     "start_time": "2025-10-26T10:31:37.032347Z"
    }
   },
   "cell_type": "code",
   "source": [
    "# ==========================================\n",
    "# Exercise 9\n",
    "# ==========================================\n",
    "# Feature Subset Selection\n",
    "count_vect = CountVectorizer()\n",
    "X_counts = count_vect.fit_transform(X['text'])\n",
    "print(f\"\\nDocument-term matrix shape: {X_counts.shape}\")\n",
    "print(f\"Vocabulary size: {X_counts.shape[1]}\")\n",
    "\n",
    "# Get feature names\n",
    "feature_names = count_vect.get_feature_names_out()\n",
    "print(f\"First 10 features: {feature_names[:10]}\")\n",
    "\n",
    "# Analyze the first record\n",
    "from sklearn.feature_extraction.text import CountVectorizer\n",
    "count_vect = CountVectorizer()\n",
    "count_vect.fit(X['text'])\n",
    "analyze = count_vect.build_analyzer()\n",
    "# Analyze first Reddit post\n",
    "analyze(X['text'][0])\n"
   ],
   "outputs": [
    {
     "name": "stdout",
     "output_type": "stream",
     "text": [
      "\n",
      "Document-term matrix shape: (847, 4508)\n",
      "Vocabulary size: 4508\n",
      "First 10 features: ['00' '000' '01378' '02' '027' '03' '04' '06' '08' '10']\n"
     ]
    },
    {
     "data": {
      "text/plain": [
       "['retardation',\n",
       " 'is',\n",
       " 'on',\n",
       " 'the',\n",
       " 'menu',\n",
       " 'boys',\n",
       " 'wsb',\n",
       " 'is',\n",
       " 'so',\n",
       " 'back',\n",
       " 'calls',\n",
       " 'on',\n",
       " 'retards']"
      ]
     },
     "execution_count": 20,
     "metadata": {},
     "output_type": "execute_result"
    }
   ],
   "execution_count": 20
  },
  {
   "metadata": {
    "ExecuteTime": {
     "end_time": "2025-10-26T10:31:41.213914Z",
     "start_time": "2025-10-26T10:31:41.198625Z"
    }
   },
   "cell_type": "code",
   "source": [
    "# ==========================================\n",
    "# Exercise 10\n",
    "# ==========================================\n",
    "X_counts.shape\n",
    "X_counts[0:5, 0:100].toarray()"
   ],
   "outputs": [
    {
     "data": {
      "text/plain": [
       "array([[0, 0, 0, 0, 0, 0, 0, 0, 0, 0, 0, 0, 0, 0, 0, 0, 0, 0, 0, 0, 0, 0,\n",
       "        0, 0, 0, 0, 0, 0, 0, 0, 0, 0, 0, 0, 0, 0, 0, 0, 0, 0, 0, 0, 0, 0,\n",
       "        0, 0, 0, 0, 0, 0, 0, 0, 0, 0, 0, 0, 0, 0, 0, 0, 0, 0, 0, 0, 0, 0,\n",
       "        0, 0, 0, 0, 0, 0, 0, 0, 0, 0, 0, 0, 0, 0, 0, 0, 0, 0, 0, 0, 0, 0,\n",
       "        0, 0, 0, 0, 0, 0, 0, 0, 0, 0, 0, 0],\n",
       "       [0, 0, 0, 0, 0, 0, 0, 0, 0, 1, 0, 0, 0, 0, 0, 0, 0, 0, 0, 0, 0, 0,\n",
       "        0, 0, 0, 0, 0, 0, 0, 0, 0, 0, 0, 0, 0, 0, 0, 0, 0, 0, 0, 0, 0, 0,\n",
       "        0, 0, 0, 0, 0, 0, 0, 0, 0, 0, 0, 0, 0, 0, 0, 0, 0, 0, 0, 0, 0, 0,\n",
       "        0, 0, 0, 0, 0, 0, 0, 0, 0, 0, 0, 0, 0, 0, 0, 0, 0, 0, 0, 0, 0, 0,\n",
       "        0, 0, 0, 0, 0, 0, 0, 0, 0, 0, 0, 0],\n",
       "       [0, 0, 0, 0, 0, 0, 0, 0, 0, 0, 0, 0, 0, 0, 0, 0, 0, 0, 0, 0, 0, 0,\n",
       "        0, 0, 0, 0, 0, 0, 0, 0, 0, 0, 0, 0, 0, 0, 0, 0, 0, 0, 0, 0, 0, 0,\n",
       "        0, 0, 0, 0, 0, 0, 0, 0, 0, 0, 0, 0, 0, 0, 0, 0, 0, 0, 0, 0, 0, 0,\n",
       "        0, 0, 0, 0, 0, 0, 0, 0, 0, 0, 0, 0, 0, 0, 0, 0, 0, 0, 0, 0, 0, 0,\n",
       "        0, 0, 0, 0, 0, 0, 0, 0, 0, 0, 0, 0],\n",
       "       [0, 0, 0, 0, 0, 0, 0, 0, 0, 0, 0, 0, 0, 0, 0, 0, 0, 0, 0, 3, 0, 0,\n",
       "        0, 0, 0, 0, 0, 0, 0, 0, 0, 0, 0, 0, 0, 0, 0, 0, 0, 0, 0, 0, 0, 0,\n",
       "        0, 0, 0, 0, 0, 0, 0, 0, 0, 0, 0, 0, 0, 0, 0, 0, 0, 0, 0, 0, 0, 0,\n",
       "        0, 0, 0, 0, 0, 0, 0, 0, 0, 0, 0, 0, 0, 0, 0, 0, 0, 0, 0, 0, 0, 0,\n",
       "        0, 0, 0, 0, 0, 0, 0, 0, 0, 0, 0, 0],\n",
       "       [0, 0, 0, 0, 0, 0, 0, 0, 0, 0, 0, 0, 0, 0, 0, 0, 0, 0, 0, 0, 0, 0,\n",
       "        0, 0, 0, 0, 0, 0, 0, 0, 0, 0, 0, 0, 0, 0, 0, 0, 0, 0, 0, 0, 0, 0,\n",
       "        0, 0, 0, 0, 0, 0, 0, 0, 0, 0, 0, 0, 0, 0, 0, 0, 0, 0, 0, 0, 0, 0,\n",
       "        0, 0, 0, 0, 0, 0, 0, 0, 0, 0, 0, 0, 0, 0, 0, 0, 0, 0, 0, 0, 0, 0,\n",
       "        0, 0, 0, 0, 0, 0, 0, 0, 0, 0, 0, 0]])"
      ]
     },
     "execution_count": 21,
     "metadata": {},
     "output_type": "execute_result"
    }
   ],
   "execution_count": 21
  },
  {
   "metadata": {
    "ExecuteTime": {
     "end_time": "2025-10-26T10:31:43.130129Z",
     "start_time": "2025-10-26T10:31:43.123146Z"
    }
   },
   "cell_type": "code",
   "source": [
    "# Find which words correspond to non-zero values in the matrix\n",
    "vocab = count_vect.get_feature_names_out()\n",
    "\n",
    "# Row 2 has a 1 at position 9\n",
    "print(f\"Word at position 9: {vocab[9]}\")\n",
    "\n",
    "# Row 4 has a 3 at position 19\n",
    "print(f\"Word at position 19: {vocab[19]} (appears 3 times)\")\n",
    "\n",
    "# Check what these words are in the actual text\n",
    "print(f\"\\nRow 2 text: {X['text'][1][:100]}...\")\n",
    "print(f\"Row 4 text: {X['text'][3][:100]}...\")"
   ],
   "outputs": [
    {
     "name": "stdout",
     "output_type": "stream",
     "text": [
      "Word at position 9: 10\n",
      "Word at position 19: 116 (appears 3 times)\n",
      "\n",
      "Row 2 text: Retail giant TARGET has now declined for 10 consecutive weeks, its longest losing streak in history ...\n",
      "Row 4 text: Who knows more? $VMAR Vision Marine Technologies Inc. is rewriting the watercraft rulebook. Their co...\n"
     ]
    }
   ],
   "execution_count": 22
  },
  {
   "metadata": {
    "ExecuteTime": {
     "end_time": "2025-10-26T10:31:47.644766Z",
     "start_time": "2025-10-26T10:31:44.868910Z"
    }
   },
   "cell_type": "code",
   "source": [
    "# ==========================================\n",
    "# Exercise 11\n",
    "# ==========================================\n",
    "# Create heatmap of term-document matrix\n",
    "import matplotlib.pyplot as plt\n",
    "import seaborn as sns\n",
    "\n",
    "n_docs  = 50     # rows\n",
    "n_terms = 50      # columns\n",
    "plot_z = X_counts[0:n_docs, 0:n_terms].toarray()\n",
    "plot_x = [f\"term_{i}\" for i in range(n_terms)]\n",
    "plot_y = [f\"doc_{i}\"  for i in range(n_docs)]\n",
    "\n",
    "df_todraw = pd.DataFrame(plot_z, columns=plot_x, index=plot_y)\n",
    "plt.subplots(figsize=(12, 8))\n",
    "sns.heatmap(df_todraw, cmap=\"PuRd\", vmin=0, vmax=1, annot=True)\n",
    "plt.title(f\"Term–Document Heatmap ({n_docs} docs × {n_terms} terms)\")\n",
    "plt.show()"
   ],
   "outputs": [
    {
     "data": {
      "text/plain": [
       "<Figure size 1200x800 with 2 Axes>"
      ],
      "image/png": "[encoded data removed]"
     },
     "metadata": {},
     "output_type": "display_data",
     "jetTransient": {
      "display_id": null
     }
    }
   ],
   "execution_count": 23
  },
  {
   "metadata": {
    "ExecuteTime": {
     "end_time": "2025-10-26T10:31:49.713600Z",
     "start_time": "2025-10-26T10:31:47.655742Z"
    }
   },
   "cell_type": "code",
   "source": [
    "# ==========================================\n",
    "# Exercise 12\n",
    "# ==========================================\n",
    "# Interactive visualization\n",
    "import plotly.express as px\n",
    "# Calculate term frequencies\n",
    "term_frequencies = np.asarray(X_counts.sum(axis=0))[0]\n",
    "# Get the vocabulary\n",
    "vocab = count_vect.get_feature_names_out()\n",
    "# Select top 50 most frequent terms\n",
    "top_indices = term_frequencies.argsort()[-50:][::-1]\n",
    "top_terms = [vocab[i] for i in top_indices]\n",
    "top_frequencies = [term_frequencies[i] for i in top_indices]\n",
    "# Create interactive bar chart with Plotly\n",
    "fig = px.bar(x=top_terms, y=top_frequencies,\n",
    "             title=\"Top 50 Most Frequent Terms in Reddit Stock Comments\",\n",
    "             labels={'x': 'Terms', 'y': 'Frequency'})\n",
    "fig.update_layout(xaxis_tickangle=-45)\n",
    "fig.show()"
   ],
   "outputs": [
    {
     "data": {
      "application/vnd.plotly.v1+json": {
       "data": [
        {
         "hovertemplate": "Terms=%{x}<br>Frequency=%{y}<extra></extra>",
         "legendgroup": "",
         "marker": {
          "color": "#636efa",
          "pattern": {
           "shape": ""
          }
         },
         "name": "",
         "orientation": "v",
         "showlegend": false,
         "textposition": "auto",
         "x": [
          "the",
          "to",
          "is",
          "and",
          "in",
          "of",
          "it",
          "trump",
          "for",
          "on",
          "you",
          "that",
          "this",
          "with",
          "china",
          "are",
          "us",
          "market",
          "just",
          "he",
          "they",
          "not",
          "all",
          "be",
          "as",
          "will",
          "2025",
          "now",
          "so",
          "if",
          "his",
          "about",
          "my",
          "stock",
          "stocks",
          "thread",
          "has",
          "tariffs",
          "11",
          "we",
          "but",
          "weekend",
          "one",
          "discussion",
          "how",
          "do",
          "have",
          "at",
          "tariff",
          "president"
         ],
         "xaxis": "x",
         "y": {
          "dtype": "i2",
          "bdata": "7gQIAyoCHQKZAZgBjQFXAVMBMAH4AO8A5wDUAMIAwQC0AJ0AnACbAJoAlwCXAJAAjgCOAIUAfgB7AHoAeAB3AHQAcgBwAG0AbABsAGwAbABsAGsAaQBnAGUAZQBkAGQAYgBiAA=="
         },
         "yaxis": "y",
         "type": "bar"
        }
       ],
       "layout": {
        "template": {
         "data": {
          "histogram2dcontour": [
           {
            "type": "histogram2dcontour",
            "colorbar": {
             "outlinewidth": 0,
             "ticks": ""
            },
            "colorscale": [
             [
              0.0,
              "#0d0887"
             ],
             [
              0.1111111111111111,
              "#46039f"
             ],
             [
              0.2222222222222222,
              "#7201a8"
             ],
             [
              0.3333333333333333,
              "#9c179e"
             ],
             [
              0.4444444444444444,
              "#bd3786"
             ],
             [
              0.5555555555555556,
              "#d8576b"
             ],
             [
              0.6666666666666666,
              "#ed7953"
             ],
             [
              0.7777777777777778,
              "#fb9f3a"
             ],
             [
              0.8888888888888888,
              "#fdca26"
             ],
             [
              1.0,
              "#f0f921"
             ]
            ]
           }
          ],
          "choropleth": [
           {
            "type": "choropleth",
            "colorbar": {
             "outlinewidth": 0,
             "ticks": ""
            }
           }
          ],
          "histogram2d": [
           {
            "type": "histogram2d",
            "colorbar": {
             "outlinewidth": 0,
             "ticks": ""
            },
            "colorscale": [
             [
              0.0,
              "#0d0887"
             ],
             [
              0.1111111111111111,
              "#46039f"
             ],
             [
              0.2222222222222222,
              "#7201a8"
             ],
             [
              0.3333333333333333,
              "#9c179e"
             ],
             [
              0.4444444444444444,
              "#bd3786"
             ],
             [
              0.5555555555555556,
              "#d8576b"
             ],
             [
              0.6666666666666666,
              "#ed7953"
             ],
             [
              0.7777777777777778,
              "#fb9f3a"
             ],
             [
              0.8888888888888888,
              "#fdca26"
             ],
             [
              1.0,
              "#f0f921"
             ]
            ]
           }
          ],
          "heatmap": [
           {
            "type": "heatmap",
            "colorbar": {
             "outlinewidth": 0,
             "ticks": ""
            },
            "colorscale": [
             [
              0.0,
              "#0d0887"
             ],
             [
              0.1111111111111111,
              "#46039f"
             ],
             [
              0.2222222222222222,
              "#7201a8"
             ],
             [
              0.3333333333333333,
              "#9c179e"
             ],
             [
              0.4444444444444444,
              "#bd3786"
             ],
             [
              0.5555555555555556,
              "#d8576b"
             ],
             [
              0.6666666666666666,
              "#ed7953"
             ],
             [
              0.7777777777777778,
              "#fb9f3a"
             ],
             [
              0.8888888888888888,
              "#fdca26"
             ],
             [
              1.0,
              "#f0f921"
             ]
            ]
           }
          ],
          "contourcarpet": [
           {
            "type": "contourcarpet",
            "colorbar": {
             "outlinewidth": 0,
             "ticks": ""
            }
           }
          ],
          "contour": [
           {
            "type": "contour",
            "colorbar": {
             "outlinewidth": 0,
             "ticks": ""
            },
            "colorscale": [
             [
              0.0,
              "#0d0887"
             ],
             [
              0.1111111111111111,
              "#46039f"
             ],
             [
              0.2222222222222222,
              "#7201a8"
             ],
             [
              0.3333333333333333,
              "#9c179e"
             ],
             [
              0.4444444444444444,
              "#bd3786"
             ],
             [
              0.5555555555555556,
              "#d8576b"
             ],
             [
              0.6666666666666666,
              "#ed7953"
             ],
             [
              0.7777777777777778,
              "#fb9f3a"
             ],
             [
              0.8888888888888888,
              "#fdca26"
             ],
             [
              1.0,
              "#f0f921"
             ]
            ]
           }
          ],
          "surface": [
           {
            "type": "surface",
            "colorbar": {
             "outlinewidth": 0,
             "ticks": ""
            },
            "colorscale": [
             [
              0.0,
              "#0d0887"
             ],
             [
              0.1111111111111111,
              "#46039f"
             ],
             [
              0.2222222222222222,
              "#7201a8"
             ],
             [
              0.3333333333333333,
              "#9c179e"
             ],
             [
              0.4444444444444444,
              "#bd3786"
             ],
             [
              0.5555555555555556,
              "#d8576b"
             ],
             [
              0.6666666666666666,
              "#ed7953"
             ],
             [
              0.7777777777777778,
              "#fb9f3a"
             ],
             [
              0.8888888888888888,
              "#fdca26"
             ],
             [
              1.0,
              "#f0f921"
             ]
            ]
           }
          ],
          "mesh3d": [
           {
            "type": "mesh3d",
            "colorbar": {
             "outlinewidth": 0,
             "ticks": ""
            }
           }
          ],
          "scatter": [
           {
            "marker": {
             "line": {
              "color": "#283442"
             }
            },
            "type": "scatter"
           }
          ],
          "parcoords": [
           {
            "type": "parcoords",
            "line": {
             "colorbar": {
              "outlinewidth": 0,
              "ticks": ""
             }
            }
           }
          ],
          "scatterpolargl": [
           {
            "type": "scatterpolargl",
            "marker": {
             "colorbar": {
              "outlinewidth": 0,
              "ticks": ""
             }
            }
           }
          ],
          "bar": [
           {
            "error_x": {
             "color": "#f2f5fa"
            },
            "error_y": {
             "color": "#f2f5fa"
            },
            "marker": {
             "line": {
              "color": "rgb(17,17,17)",
              "width": 0.5
             },
             "pattern": {
              "fillmode": "overlay",
              "size": 10,
              "solidity": 0.2
             }
            },
            "type": "bar"
           }
          ],
          "scattergeo": [
           {
            "type": "scattergeo",
            "marker": {
             "colorbar": {
              "outlinewidth": 0,
              "ticks": ""
             }
            }
           }
          ],
          "scatterpolar": [
           {
            "type": "scatterpolar",
            "marker": {
             "colorbar": {
              "outlinewidth": 0,
              "ticks": ""
             }
            }
           }
          ],
          "histogram": [
           {
            "marker": {
             "pattern": {
              "fillmode": "overlay",
              "size": 10,
              "solidity": 0.2
             }
            },
            "type": "histogram"
           }
          ],
          "scattergl": [
           {
            "marker": {
             "line": {
              "color": "#283442"
             }
            },
            "type": "scattergl"
           }
          ],
          "scatter3d": [
           {
            "type": "scatter3d",
            "line": {
             "colorbar": {
              "outlinewidth": 0,
              "ticks": ""
             }
            },
            "marker": {
             "colorbar": {
              "outlinewidth": 0,
              "ticks": ""
             }
            }
           }
          ],
          "scattermap": [
           {
            "type": "scattermap",
            "marker": {
             "colorbar": {
              "outlinewidth": 0,
              "ticks": ""
             }
            }
           }
          ],
          "scattermapbox": [
           {
            "type": "scattermapbox",
            "marker": {
             "colorbar": {
              "outlinewidth": 0,
              "ticks": ""
             }
            }
           }
          ],
          "scatterternary": [
           {
            "type": "scatterternary",
            "marker": {
             "colorbar": {
              "outlinewidth": 0,
              "ticks": ""
             }
            }
           }
          ],
          "scattercarpet": [
           {
            "type": "scattercarpet",
            "marker": {
             "colorbar": {
              "outlinewidth": 0,
              "ticks": ""
             }
            }
           }
          ],
          "carpet": [
           {
            "aaxis": {
             "endlinecolor": "#A2B1C6",
             "gridcolor": "#506784",
             "linecolor": "#506784",
             "minorgridcolor": "#506784",
             "startlinecolor": "#A2B1C6"
            },
            "baxis": {
             "endlinecolor": "#A2B1C6",
             "gridcolor": "#506784",
             "linecolor": "#506784",
             "minorgridcolor": "#506784",
             "startlinecolor": "#A2B1C6"
            },
            "type": "carpet"
           }
          ],
          "table": [
           {
            "cells": {
             "fill": {
              "color": "#506784"
             },
             "line": {
              "color": "rgb(17,17,17)"
             }
            },
            "header": {
             "fill": {
              "color": "#2a3f5f"
             },
             "line": {
              "color": "rgb(17,17,17)"
             }
            },
            "type": "table"
           }
          ],
          "barpolar": [
           {
            "marker": {
             "line": {
              "color": "rgb(17,17,17)",
              "width": 0.5
             },
             "pattern": {
              "fillmode": "overlay",
              "size": 10,
              "solidity": 0.2
             }
            },
            "type": "barpolar"
           }
          ],
          "pie": [
           {
            "automargin": true,
            "type": "pie"
           }
          ]
         },
         "layout": {
          "autotypenumbers": "strict",
          "colorway": [
           "#636efa",
           "#EF553B",
           "#00cc96",
           "#ab63fa",
           "#FFA15A",
           "#19d3f3",
           "#FF6692",
           "#B6E880",
           "#FF97FF",
           "#FECB52"
          ],
          "font": {
           "color": "#f2f5fa"
          },
          "hovermode": "closest",
          "hoverlabel": {
           "align": "left"
          },
          "paper_bgcolor": "rgb(17,17,17)",
          "plot_bgcolor": "rgb(17,17,17)",
          "polar": {
           "bgcolor": "rgb(17,17,17)",
           "angularaxis": {
            "gridcolor": "#506784",
            "linecolor": "#506784",
            "ticks": ""
           },
           "radialaxis": {
            "gridcolor": "#506784",
            "linecolor": "#506784",
            "ticks": ""
           }
          },
          "ternary": {
           "bgcolor": "rgb(17,17,17)",
           "aaxis": {
            "gridcolor": "#506784",
            "linecolor": "#506784",
            "ticks": ""
           },
           "baxis": {
            "gridcolor": "#506784",
            "linecolor": "#506784",
            "ticks": ""
           },
           "caxis": {
            "gridcolor": "#506784",
            "linecolor": "#506784",
            "ticks": ""
           }
          },
          "coloraxis": {
           "colorbar": {
            "outlinewidth": 0,
            "ticks": ""
           }
          },
          "colorscale": {
           "sequential": [
            [
             0.0,
             "#0d0887"
            ],
            [
             0.1111111111111111,
             "#46039f"
            ],
            [
             0.2222222222222222,
             "#7201a8"
            ],
            [
             0.3333333333333333,
             "#9c179e"
            ],
            [
             0.4444444444444444,
             "#bd3786"
            ],
            [
             0.5555555555555556,
             "#d8576b"
            ],
            [
             0.6666666666666666,
             "#ed7953"
            ],
            [
             0.7777777777777778,
             "#fb9f3a"
            ],
            [
             0.8888888888888888,
             "#fdca26"
            ],
            [
             1.0,
             "#f0f921"
            ]
           ],
           "sequentialminus": [
            [
             0.0,
             "#0d0887"
            ],
            [
             0.1111111111111111,
             "#46039f"
            ],
            [
             0.2222222222222222,
             "#7201a8"
            ],
            [
             0.3333333333333333,
             "#9c179e"
            ],
            [
             0.4444444444444444,
             "#bd3786"
            ],
            [
             0.5555555555555556,
             "#d8576b"
            ],
            [
             0.6666666666666666,
             "#ed7953"
            ],
            [
             0.7777777777777778,
             "#fb9f3a"
            ],
            [
             0.8888888888888888,
             "#fdca26"
            ],
            [
             1.0,
             "#f0f921"
            ]
           ],
           "diverging": [
            [
             0,
             "#8e0152"
            ],
            [
             0.1,
             "#c51b7d"
            ],
            [
             0.2,
             "#de77ae"
            ],
            [
             0.3,
             "#f1b6da"
            ],
            [
             0.4,
             "#fde0ef"
            ],
            [
             0.5,
             "#f7f7f7"
            ],
            [
             0.6,
             "#e6f5d0"
            ],
            [
             0.7,
             "#b8e186"
            ],
            [
             0.8,
             "#7fbc41"
            ],
            [
             0.9,
             "#4d9221"
            ],
            [
             1,
             "#276419"
            ]
           ]
          },
          "xaxis": {
           "gridcolor": "#283442",
           "linecolor": "#506784",
           "ticks": "",
           "title": {
            "standoff": 15
           },
           "zerolinecolor": "#283442",
           "automargin": true,
           "zerolinewidth": 2
          },
          "yaxis": {
           "gridcolor": "#283442",
           "linecolor": "#506784",
           "ticks": "",
           "title": {
            "standoff": 15
           },
           "zerolinecolor": "#283442",
           "automargin": true,
           "zerolinewidth": 2
          },
          "scene": {
           "xaxis": {
            "backgroundcolor": "rgb(17,17,17)",
            "gridcolor": "#506784",
            "linecolor": "#506784",
            "showbackground": true,
            "ticks": "",
            "zerolinecolor": "#C8D4E3",
            "gridwidth": 2
           },
           "yaxis": {
            "backgroundcolor": "rgb(17,17,17)",
            "gridcolor": "#506784",
            "linecolor": "#506784",
            "showbackground": true,
            "ticks": "",
            "zerolinecolor": "#C8D4E3",
            "gridwidth": 2
           },
           "zaxis": {
            "backgroundcolor": "rgb(17,17,17)",
            "gridcolor": "#506784",
            "linecolor": "#506784",
            "showbackground": true,
            "ticks": "",
            "zerolinecolor": "#C8D4E3",
            "gridwidth": 2
           }
          },
          "shapedefaults": {
           "line": {
            "color": "#f2f5fa"
           }
          },
          "annotationdefaults": {
           "arrowcolor": "#f2f5fa",
           "arrowhead": 0,
           "arrowwidth": 1
          },
          "geo": {
           "bgcolor": "rgb(17,17,17)",
           "landcolor": "rgb(17,17,17)",
           "subunitcolor": "#506784",
           "showland": true,
           "showlakes": true,
           "lakecolor": "rgb(17,17,17)"
          },
          "title": {
           "x": 0.05
          },
          "updatemenudefaults": {
           "bgcolor": "#506784",
           "borderwidth": 0
          },
          "sliderdefaults": {
           "bgcolor": "#C8D4E3",
           "borderwidth": 1,
           "bordercolor": "rgb(17,17,17)",
           "tickwidth": 0
          },
          "mapbox": {
           "style": "dark"
          }
         }
        },
        "xaxis": {
         "anchor": "y",
         "domain": [
          0.0,
          1.0
         ],
         "title": {
          "text": "Terms"
         },
         "tickangle": -45
        },
        "yaxis": {
         "anchor": "x",
         "domain": [
          0.0,
          1.0
         ],
         "title": {
          "text": "Frequency"
         }
        },
        "legend": {
         "tracegroupgap": 0
        },
        "title": {
         "text": "Top 50 Most Frequent Terms in Reddit Stock Comments"
        },
        "barmode": "relative"
       },
       "config": {
        "plotlyServerURL": "https://plot.ly"
       }
      }
     },
     "metadata": {},
     "output_type": "display_data",
     "jetTransient": {
      "display_id": null
     }
    }
   ],
   "execution_count": 24
  },
  {
   "metadata": {
    "ExecuteTime": {
     "end_time": "2025-10-26T10:31:53.097879Z",
     "start_time": "2025-10-26T10:31:52.757487Z"
    }
   },
   "cell_type": "code",
   "source": [
    "# ==========================================\n",
    "# Exercise 13\n",
    "# ==========================================\n",
    "# Calculate term frequencies\n",
    "term_frequencies = np.asarray(X_counts.sum(axis=0))[0]\n",
    "vocab = count_vect.get_feature_names_out()\n",
    "print(f\"Total vocabulary size: {len(vocab)} terms\")\n",
    "# Take top 30 most frequent words\n",
    "top_30_indices = term_frequencies.argsort()[-30:][::-1]\n",
    "top_30_terms = [vocab[i] for i in top_30_indices]\n",
    "top_30_freqs = [term_frequencies[i] for i in top_30_indices]\n",
    "\n",
    "# Visualize only these 30 terms\n",
    "plt.figure(figsize=(12, 5))\n",
    "plt.bar(range(30), top_30_freqs)\n",
    "plt.xticks(range(30), top_30_terms, rotation=90)\n",
    "plt.xlabel('Terms')\n",
    "plt.ylabel('Frequency')\n",
    "plt.title('Top 30 Terms Only (Reduced for Better Visualization)')\n",
    "plt.tight_layout()\n",
    "plt.show()\n",
    "\n",
    "print(f\"Reduced from {len(vocab)} to 30 terms for cleaner visualization\")"
   ],
   "outputs": [
    {
     "name": "stdout",
     "output_type": "stream",
     "text": [
      "Total vocabulary size: 4508 terms\n"
     ]
    },
    {
     "data": {
      "text/plain": [
       "<Figure size 1200x500 with 1 Axes>"
      ],
      "image/png": "[encoded data removed]"
     },
     "metadata": {},
     "output_type": "display_data",
     "jetTransient": {
      "display_id": null
     }
    },
    {
     "name": "stdout",
     "output_type": "stream",
     "text": [
      "Reduced from 4508 to 30 terms for cleaner visualization\n"
     ]
    }
   ],
   "execution_count": 25
  },
  {
   "metadata": {
    "ExecuteTime": {
     "end_time": "2025-10-26T10:31:56.723737Z",
     "start_time": "2025-10-26T10:31:56.415128Z"
    }
   },
   "cell_type": "code",
   "source": [
    "# ==========================================\n",
    "# Exercise 14\n",
    "# ==========================================\n",
    "# # Create the long-tail visualization\n",
    "import numpy as np\n",
    "import matplotlib.pyplot as plt\n",
    "# Calculate term frequencies\n",
    "term_frequencies = np.asarray(X_counts.sum(axis=0))[0]\n",
    "# Sort by frequency (descending)\n",
    "idx = np.argsort(term_frequencies)[::-1]\n",
    "sorted_freqs = term_frequencies[idx].astype(float)\n",
    "x = np.arange(1, len(sorted_freqs) + 1)\n",
    "# Define head as top 20% of terms\n",
    "head_cut = max(1, int(0.2 * len(sorted_freqs)))\n",
    "\n",
    "# Plot\n",
    "plt.figure(figsize=(12, 6))\n",
    "plt.plot(x, sorted_freqs, linewidth=3, color=\"#9e9e9e\")  # curve\n",
    "plt.fill_between(x[:head_cut], sorted_freqs[:head_cut], 1e-6, color=\"#D6FF5B\", alpha=0.95)  # head (top 20%)\n",
    "plt.fill_between(x[head_cut-1:], sorted_freqs[head_cut-1:], 1e-6, color=\"#FFF95E\", alpha=0.95)\n",
    "plt.axvline(head_cut, linewidth=2, color=\"#9e9e9e\")\n",
    "plt.yscale(\"log\")\n",
    "plt.xlabel(\"Rank (1 = most frequent)\")\n",
    "plt.ylabel(\"Frequency\")\n",
    "plt.title(\"Long-Tail of Term Frequencies - Reddit Stock Comments\")\n",
    "plt.tight_layout()\n",
    "plt.show()"
   ],
   "outputs": [
    {
     "data": {
      "text/plain": [
       "<Figure size 1200x600 with 1 Axes>"
      ],
      "image/png": "[encoded data removed]"
     },
     "metadata": {},
     "output_type": "display_data",
     "jetTransient": {
      "display_id": null
     }
    }
   ],
   "execution_count": 26
  },
  {
   "metadata": {
    "ExecuteTime": {
     "end_time": "2025-10-26T10:32:00.192921Z",
     "start_time": "2025-10-26T10:32:00.013958Z"
    }
   },
   "cell_type": "code",
   "source": [
    "# ==========================================\n",
    "# Exercise 15\n",
    "# ==========================================\n",
    "# Log distribution\n",
    "# Calculate term frequencies (if not already done)\n",
    "term_frequencies = np.asarray(X_counts.sum(axis=0))[0]\n",
    "\n",
    "# Convert to float and sort\n",
    "freqs = np.asarray(term_frequencies, dtype=float)\n",
    "rank_idx = np.argsort(freqs)[::-1]\n",
    "rank = np.arange(1, len(freqs) + 1)\n",
    "y_log = np.log1p(freqs[rank_idx])  # log transform AFTER ranking\n",
    "\n",
    "# Define head as top 20% of terms\n",
    "head_cut = max(1, int(0.2 * len(y_log)))\n",
    "\n",
    "# Create visualization\n",
    "plt.figure(figsize=(12, 6))\n",
    "plt.plot(rank, y_log, linewidth=2)\n",
    "plt.fill_between(rank[:head_cut], y_log[:head_cut], color=\"#D6FF5B\", alpha=0.3)  # head\n",
    "plt.fill_between(rank[head_cut-1:], y_log[head_cut-1:], color=\"#FFF95E\", alpha=0.15)  # tail\n",
    "plt.axvline(head_cut, linewidth=1)\n",
    "plt.xlabel(\"Rank (1 = most frequent)\")\n",
    "plt.ylabel(\"log(1 + frequency)\")\n",
    "plt.title(\"Long Tail - Reddit Stock Comments (log-transformed)\")\n",
    "plt.tight_layout()\n",
    "plt.show()\n",
    "\n",
    "# The log transformation makes the curve flatter:\n",
    "# Head compresses (high frequencies are less extreme)\n",
    "# Tail lifts (low frequencies are more visible)\n",
    "# Easier to see mid-frequency terms\n",
    "# log1p avoids issues with zero frequencies"
   ],
   "outputs": [
    {
     "data": {
      "text/plain": [
       "<Figure size 1200x600 with 1 Axes>"
      ],
      "image/png": "[encoded data removed]"
     },
     "metadata": {},
     "output_type": "display_data",
     "jetTransient": {
      "display_id": null
     }
    }
   ],
   "execution_count": 27
  },
  {
   "cell_type": "markdown",
   "metadata": {},
   "source": [
    "# Phase 2"
   ]
  },
  {
   "cell_type": "code",
   "metadata": {
    "ExecuteTime": {
     "end_time": "2025-10-26T11:11:47.816349Z",
     "start_time": "2025-10-26T11:11:47.767986Z"
    }
   },
   "source": [
    "### Begin Assignment Here\n",
    "import pandas as pd\n",
    "from sklearn.feature_extraction.text import CountVectorizer\n",
    "\n",
    "#Create separate DataFrames for each category\n",
    "categories = X['category_name'].unique()  # Get unique category labels\n",
    "category_dfs = {}  # Dictionary to store DataFrames for each category\n",
    "\n",
    "for category in categories:\n",
    "    # Filter the original DataFrame by category\n",
    "    category_dfs[category] = X[X['category_name'] == category].copy()\n",
    "\n",
    "# Function to create term-document frequency DataFrame for each category\n",
    "def create_term_document_df(df):\n",
    "    count_vect = CountVectorizer()  # Initialize the CountVectorizer\n",
    "    X_counts = count_vect.fit_transform(df['text'])  # Transform the text data into word counts\n",
    "\n",
    "    # Get the unique words (vocabulary) from the vectorizer\n",
    "    words = count_vect.get_feature_names_out()\n",
    "\n",
    "    # Create a DataFrame where rows are documents and columns are words\n",
    "    term_document_df = pd.DataFrame(X_counts.toarray(), columns=words)\n",
    "\n",
    "    return term_document_df\n",
    "\n",
    "# Create term-document frequency DataFrames for each category\n",
    "filt_term_document_dfs = {}  # Dictionary to store term-document DataFrames for each category\n",
    "\n",
    "for category in categories:\n",
    "    filt_term_document_dfs[category] = create_term_document_df(category_dfs[category])"
   ],
   "outputs": [],
   "execution_count": 29
  },
  {
   "metadata": {
    "ExecuteTime": {
     "end_time": "2025-10-26T11:24:30.547034Z",
     "start_time": "2025-10-26T11:24:30.529912Z"
    }
   },
   "cell_type": "code",
   "source": [
    "# Display the filtered DataFrame for one of the categories, feel free to change the number in the vector\n",
    "category_number=1\n",
    "print(f\"Filtered Term-Document Frequency DataFrame for Category {categories[category_number]}:\")\n",
    "filt_term_document_dfs[categories[category_number]]"
   ],
   "outputs": [
    {
     "name": "stdout",
     "output_type": "stream",
     "text": [
      "Filtered Term-Document Frequency DataFrame for Category neutral:\n"
     ]
    },
    {
     "data": {
      "text/plain": [
       "     00  000  01378  027  08  10  100  100k  100x  10k  ...  you  young  your  \\\n",
       "0     0    0      0    0   0   1    0     0     0    0  ...    0      0     0   \n",
       "1     0    0      0    0   0   0    0     0     0    0  ...    1      0     0   \n",
       "2     0    0      0    0   0   0    0     0     0    0  ...    0      0     0   \n",
       "3     0    0      0    0   0   0    0     0     0    0  ...    0      0     0   \n",
       "4     0    0      0    0   0   0    0     0     0    0  ...    0      0     0   \n",
       "..   ..  ...    ...  ...  ..  ..  ...   ...   ...  ...  ...  ...    ...   ...   \n",
       "418   0    0      0    0   0   0    0     0     0    0  ...    0      0     0   \n",
       "419   0    0      0    0   0   0    0     0     0    0  ...    0      0     0   \n",
       "420   0    0      0    0   0   0    0     0     0    0  ...    0      0     0   \n",
       "421   0    0      0    0   0   0    0     0     0    0  ...    0      0     0   \n",
       "422   0    0      0    0   0   0    0     0     0    0  ...    0      0     0   \n",
       "\n",
       "     yours  yourself  yoyo  yup  zgld  zone  zsil  \n",
       "0        0         0     0    0     0     0     0  \n",
       "1        0         0     0    0     0     0     0  \n",
       "2        0         0     0    0     0     0     0  \n",
       "3        0         0     0    0     0     0     0  \n",
       "4        0         0     0    0     0     0     0  \n",
       "..     ...       ...   ...  ...   ...   ...   ...  \n",
       "418      0         0     0    0     0     0     0  \n",
       "419      0         0     0    0     0     0     0  \n",
       "420      0         0     0    0     0     0     0  \n",
       "421      0         0     0    0     0     0     0  \n",
       "422      0         0     0    0     0     0     0  \n",
       "\n",
       "[423 rows x 2896 columns]"
      ],
      "text/html": [
       "<div>\n",
       "<style scoped>\n",
       "    .dataframe tbody tr th:only-of-type {\n",
       "        vertical-align: middle;\n",
       "    }\n",
       "\n",
       "    .dataframe tbody tr th {\n",
       "        vertical-align: top;\n",
       "    }\n",
       "\n",
       "    .dataframe thead th {\n",
       "        text-align: right;\n",
       "    }\n",
       "</style>\n",
       "<table border=\"1\" class=\"dataframe\">\n",
       "  <thead>\n",
       "    <tr style=\"text-align: right;\">\n",
       "      <th></th>\n",
       "      <th>00</th>\n",
       "      <th>000</th>\n",
       "      <th>01378</th>\n",
       "      <th>027</th>\n",
       "      <th>08</th>\n",
       "      <th>10</th>\n",
       "      <th>100</th>\n",
       "      <th>100k</th>\n",
       "      <th>100x</th>\n",
       "      <th>10k</th>\n",
       "      <th>...</th>\n",
       "      <th>you</th>\n",
       "      <th>young</th>\n",
       "      <th>your</th>\n",
       "      <th>yours</th>\n",
       "      <th>yourself</th>\n",
       "      <th>yoyo</th>\n",
       "      <th>yup</th>\n",
       "      <th>zgld</th>\n",
       "      <th>zone</th>\n",
       "      <th>zsil</th>\n",
       "    </tr>\n",
       "  </thead>\n",
       "  <tbody>\n",
       "    <tr>\n",
       "      <th>0</th>\n",
       "      <td>0</td>\n",
       "      <td>0</td>\n",
       "      <td>0</td>\n",
       "      <td>0</td>\n",
       "      <td>0</td>\n",
       "      <td>1</td>\n",
       "      <td>0</td>\n",
       "      <td>0</td>\n",
       "      <td>0</td>\n",
       "      <td>0</td>\n",
       "      <td>...</td>\n",
       "      <td>0</td>\n",
       "      <td>0</td>\n",
       "      <td>0</td>\n",
       "      <td>0</td>\n",
       "      <td>0</td>\n",
       "      <td>0</td>\n",
       "      <td>0</td>\n",
       "      <td>0</td>\n",
       "      <td>0</td>\n",
       "      <td>0</td>\n",
       "    </tr>\n",
       "    <tr>\n",
       "      <th>1</th>\n",
       "      <td>0</td>\n",
       "      <td>0</td>\n",
       "      <td>0</td>\n",
       "      <td>0</td>\n",
       "      <td>0</td>\n",
       "      <td>0</td>\n",
       "      <td>0</td>\n",
       "      <td>0</td>\n",
       "      <td>0</td>\n",
       "      <td>0</td>\n",
       "      <td>...</td>\n",
       "      <td>1</td>\n",
       "      <td>0</td>\n",
       "      <td>0</td>\n",
       "      <td>0</td>\n",
       "      <td>0</td>\n",
       "      <td>0</td>\n",
       "      <td>0</td>\n",
       "      <td>0</td>\n",
       "      <td>0</td>\n",
       "      <td>0</td>\n",
       "    </tr>\n",
       "    <tr>\n",
       "      <th>2</th>\n",
       "      <td>0</td>\n",
       "      <td>0</td>\n",
       "      <td>0</td>\n",
       "      <td>0</td>\n",
       "      <td>0</td>\n",
       "      <td>0</td>\n",
       "      <td>0</td>\n",
       "      <td>0</td>\n",
       "      <td>0</td>\n",
       "      <td>0</td>\n",
       "      <td>...</td>\n",
       "      <td>0</td>\n",
       "      <td>0</td>\n",
       "      <td>0</td>\n",
       "      <td>0</td>\n",
       "      <td>0</td>\n",
       "      <td>0</td>\n",
       "      <td>0</td>\n",
       "      <td>0</td>\n",
       "      <td>0</td>\n",
       "      <td>0</td>\n",
       "    </tr>\n",
       "    <tr>\n",
       "      <th>3</th>\n",
       "      <td>0</td>\n",
       "      <td>0</td>\n",
       "      <td>0</td>\n",
       "      <td>0</td>\n",
       "      <td>0</td>\n",
       "      <td>0</td>\n",
       "      <td>0</td>\n",
       "      <td>0</td>\n",
       "      <td>0</td>\n",
       "      <td>0</td>\n",
       "      <td>...</td>\n",
       "      <td>0</td>\n",
       "      <td>0</td>\n",
       "      <td>0</td>\n",
       "      <td>0</td>\n",
       "      <td>0</td>\n",
       "      <td>0</td>\n",
       "      <td>0</td>\n",
       "      <td>0</td>\n",
       "      <td>0</td>\n",
       "      <td>0</td>\n",
       "    </tr>\n",
       "    <tr>\n",
       "      <th>4</th>\n",
       "      <td>0</td>\n",
       "      <td>0</td>\n",
       "      <td>0</td>\n",
       "      <td>0</td>\n",
       "      <td>0</td>\n",
       "      <td>0</td>\n",
       "      <td>0</td>\n",
       "      <td>0</td>\n",
       "      <td>0</td>\n",
       "      <td>0</td>\n",
       "      <td>...</td>\n",
       "      <td>0</td>\n",
       "      <td>0</td>\n",
       "      <td>0</td>\n",
       "      <td>0</td>\n",
       "      <td>0</td>\n",
       "      <td>0</td>\n",
       "      <td>0</td>\n",
       "      <td>0</td>\n",
       "      <td>0</td>\n",
       "      <td>0</td>\n",
       "    </tr>\n",
       "    <tr>\n",
       "      <th>...</th>\n",
       "      <td>...</td>\n",
       "      <td>...</td>\n",
       "      <td>...</td>\n",
       "      <td>...</td>\n",
       "      <td>...</td>\n",
       "      <td>...</td>\n",
       "      <td>...</td>\n",
       "      <td>...</td>\n",
       "      <td>...</td>\n",
       "      <td>...</td>\n",
       "      <td>...</td>\n",
       "      <td>...</td>\n",
       "      <td>...</td>\n",
       "      <td>...</td>\n",
       "      <td>...</td>\n",
       "      <td>...</td>\n",
       "      <td>...</td>\n",
       "      <td>...</td>\n",
       "      <td>...</td>\n",
       "      <td>...</td>\n",
       "      <td>...</td>\n",
       "    </tr>\n",
       "    <tr>\n",
       "      <th>418</th>\n",
       "      <td>0</td>\n",
       "      <td>0</td>\n",
       "      <td>0</td>\n",
       "      <td>0</td>\n",
       "      <td>0</td>\n",
       "      <td>0</td>\n",
       "      <td>0</td>\n",
       "      <td>0</td>\n",
       "      <td>0</td>\n",
       "      <td>0</td>\n",
       "      <td>...</td>\n",
       "      <td>0</td>\n",
       "      <td>0</td>\n",
       "      <td>0</td>\n",
       "      <td>0</td>\n",
       "      <td>0</td>\n",
       "      <td>0</td>\n",
       "      <td>0</td>\n",
       "      <td>0</td>\n",
       "      <td>0</td>\n",
       "      <td>0</td>\n",
       "    </tr>\n",
       "    <tr>\n",
       "      <th>419</th>\n",
       "      <td>0</td>\n",
       "      <td>0</td>\n",
       "      <td>0</td>\n",
       "      <td>0</td>\n",
       "      <td>0</td>\n",
       "      <td>0</td>\n",
       "      <td>0</td>\n",
       "      <td>0</td>\n",
       "      <td>0</td>\n",
       "      <td>0</td>\n",
       "      <td>...</td>\n",
       "      <td>0</td>\n",
       "      <td>0</td>\n",
       "      <td>0</td>\n",
       "      <td>0</td>\n",
       "      <td>0</td>\n",
       "      <td>0</td>\n",
       "      <td>0</td>\n",
       "      <td>0</td>\n",
       "      <td>0</td>\n",
       "      <td>0</td>\n",
       "    </tr>\n",
       "    <tr>\n",
       "      <th>420</th>\n",
       "      <td>0</td>\n",
       "      <td>0</td>\n",
       "      <td>0</td>\n",
       "      <td>0</td>\n",
       "      <td>0</td>\n",
       "      <td>0</td>\n",
       "      <td>0</td>\n",
       "      <td>0</td>\n",
       "      <td>0</td>\n",
       "      <td>0</td>\n",
       "      <td>...</td>\n",
       "      <td>0</td>\n",
       "      <td>0</td>\n",
       "      <td>0</td>\n",
       "      <td>0</td>\n",
       "      <td>0</td>\n",
       "      <td>0</td>\n",
       "      <td>0</td>\n",
       "      <td>0</td>\n",
       "      <td>0</td>\n",
       "      <td>0</td>\n",
       "    </tr>\n",
       "    <tr>\n",
       "      <th>421</th>\n",
       "      <td>0</td>\n",
       "      <td>0</td>\n",
       "      <td>0</td>\n",
       "      <td>0</td>\n",
       "      <td>0</td>\n",
       "      <td>0</td>\n",
       "      <td>0</td>\n",
       "      <td>0</td>\n",
       "      <td>0</td>\n",
       "      <td>0</td>\n",
       "      <td>...</td>\n",
       "      <td>0</td>\n",
       "      <td>0</td>\n",
       "      <td>0</td>\n",
       "      <td>0</td>\n",
       "      <td>0</td>\n",
       "      <td>0</td>\n",
       "      <td>0</td>\n",
       "      <td>0</td>\n",
       "      <td>0</td>\n",
       "      <td>0</td>\n",
       "    </tr>\n",
       "    <tr>\n",
       "      <th>422</th>\n",
       "      <td>0</td>\n",
       "      <td>0</td>\n",
       "      <td>0</td>\n",
       "      <td>0</td>\n",
       "      <td>0</td>\n",
       "      <td>0</td>\n",
       "      <td>0</td>\n",
       "      <td>0</td>\n",
       "      <td>0</td>\n",
       "      <td>0</td>\n",
       "      <td>...</td>\n",
       "      <td>0</td>\n",
       "      <td>0</td>\n",
       "      <td>0</td>\n",
       "      <td>0</td>\n",
       "      <td>0</td>\n",
       "      <td>0</td>\n",
       "      <td>0</td>\n",
       "      <td>0</td>\n",
       "      <td>0</td>\n",
       "      <td>0</td>\n",
       "    </tr>\n",
       "  </tbody>\n",
       "</table>\n",
       "<p>423 rows × 2896 columns</p>\n",
       "</div>"
      ]
     },
     "execution_count": 46,
     "metadata": {},
     "output_type": "execute_result"
    }
   ],
   "execution_count": 46
  },
  {
   "metadata": {
    "ExecuteTime": {
     "end_time": "2025-10-26T11:24:13.400275Z",
     "start_time": "2025-10-26T11:24:09.121851Z"
    }
   },
   "cell_type": "code",
   "source": [
    " # Sum over all documents to get total frequency for each word\n",
    "category_number=1\n",
    "word_counts = filt_term_document_dfs[categories[category_number]].sum(axis=0).to_numpy()\n",
    "\n",
    "# Visualize the frequency distribution\n",
    "plt.figure(figsize=(10, 6))\n",
    "plt.hist(word_counts, bins=5000, color='blue', edgecolor='black')\n",
    "plt.title(f'Term Frequency Distribution for Category {categories[category_number]}')\n",
    "plt.xlabel('Frequency')\n",
    "plt.ylabel('Number of Terms')\n",
    "plt.xlim(1, 80)\n",
    "plt.show()"
   ],
   "outputs": [
    {
     "data": {
      "text/plain": [
       "<Figure size 1000x600 with 1 Axes>"
      ],
      "image/png": "[encoded data removed]"
     },
     "metadata": {},
     "output_type": "display_data",
     "jetTransient": {
      "display_id": null
     }
    }
   ],
   "execution_count": 45
  },
  {
   "metadata": {
    "ExecuteTime": {
     "end_time": "2025-10-26T11:26:27.675847Z",
     "start_time": "2025-10-26T11:26:27.661925Z"
    }
   },
   "cell_type": "code",
   "source": [
    "category_number=1 #You can change it from 0 to 3\n",
    "word_counts = filt_term_document_dfs[categories[category_number]].sum(axis=0).to_numpy()\n",
    "\n",
    "# Sort the term frequencies in descending order\n",
    "sorted_indices = np.argsort(word_counts)[::-1]  # Get indices of sorted frequencies\n",
    "sorted_counts = np.sort(word_counts)[::-1]  # Sort frequencies in descending order\n",
    "\n",
    "# Calculate the index corresponding to the top 5% most frequent terms\n",
    "total_terms = len(sorted_counts)\n",
    "top_5_percent_index = int(0.05 * total_terms)\n",
    "\n",
    "# Get the indices of the top 5% most frequent terms\n",
    "top_5_percent_indices = sorted_indices[:top_5_percent_index]\n",
    "\n",
    "# Filter terms that belong to the top 5% based on their rank\n",
    "filtered_words = [filt_term_document_dfs[categories[category_number]].iloc[:, i].name for i in top_5_percent_indices]\n",
    "\n",
    "print(f\"Category: {categories[category_number]}\")\n",
    "print(f\"Number of terms in top 5%: {top_5_percent_index}\")\n",
    "print(f\"Filtered terms: {filtered_words}\")"
   ],
   "outputs": [
    {
     "name": "stdout",
     "output_type": "stream",
     "text": [
      "Category: neutral\n",
      "Number of terms in top 5%: 144\n",
      "Filtered terms: ['the', 'to', 'and', 'is', 'of', 'it', 'in', 'for', 'on', 'trump', 'you', 'that', 'this', 'market', 'with', 'are', 'china', 'they', 'not', 'my', 'stock', 'us', '2025', 'all', 'stocks', 'if', 'as', 'thread', 'now', 'just', 'be', 'so', 'like', 'about', 'what', '10', '11', 'was', 'do', 'at', 'but', 'has', 'weekend', 'discussion', 'how', 'tariff', 'or', 'tariffs', 'daily', 'we', 'have', 'he', 'one', 'by', 'an', 'data', 'president', 'will', 'its', '125', 'goods', 'his', 'can', 'futures', 'into', 'dollar', 'up', 'from', 'after', 'silver', 'any', 'your', 'portfolio', 'please', 'price', 'day', 'no', 'right', 'look', 'april', 'year', 'treasuries', 're', 'there', 'their', 'company', 'call', 'losing', 'someone', 'more', 'target', 'off', 'policy', 'x200b', 'own', 'back', 'friday', 'some', 'should', 'retail', 'shows', 'post', 'powell', 'why', 'fundamentals', 'money', 'allies', 'would', 'analysis', 'com', 'apr', 'them', 'want', 'consecutive', 'going', 'me', 'stockbuyvest', 'see', 'today', 'feel', 'dumping', 'good', 'giant', 'weeks', 'even', 'who', 'history', 'people', 'declined', 'rate', 'well', 'out', 'quarterly', 'streak', 'longest', 'asked', 'sell', 'value', 'raises', 'seeing', 'making', 'media', 'think', 'fire']\n"
     ]
    }
   ],
   "execution_count": 48
  },
  {
   "metadata": {
    "ExecuteTime": {
     "end_time": "2025-10-26T11:26:31.304584Z",
     "start_time": "2025-10-26T11:26:31.301015Z"
    }
   },
   "cell_type": "code",
   "source": [
    "# Explore the frequencies of the **top 5%** words:\n",
    "print(f\"Explore the frequencies of the **top 5%** words:\")\n",
    "print(f\"Frequencies sorted in a descending order: {sorted_counts}\")\n",
    "print(f\"Indices corresponding to the words after being sorted in a descending order: {sorted_indices}\")\n",
    "print(f\"Number of column corresponding to the top 5% words: {filt_term_document_dfs[categories[category_number]].loc[:,'the'].sum(axis=0)}\")"
   ],
   "outputs": [
    {
     "name": "stdout",
     "output_type": "stream",
     "text": [
      "Explore the frequencies of the **top 5%** words:\n",
      "Frequencies sorted in a descending order: [545 355 229 ...   1   1   1]\n",
      "Indices corresponding to the words after being sorted in a descending order: [2555 2597  224 ...   48 2873 2870]\n",
      "Number of column corresponding to the top 5% words: 545\n"
     ]
    }
   ],
   "execution_count": 49
  },
  {
   "metadata": {
    "ExecuteTime": {
     "end_time": "2025-10-26T11:26:00.916186Z",
     "start_time": "2025-10-26T11:26:00.905864Z"
    }
   },
   "cell_type": "code",
   "source": [
    "category_number=1 #You can change it from 0 to 3\n",
    "word_counts = filt_term_document_dfs[categories[category_number]].sum(axis=0).to_numpy()\n",
    "\n",
    "# Sort the term frequencies in ascending order and get sorted indices\n",
    "sorted_indices = np.argsort(word_counts)  # Get indices of sorted frequencies\n",
    "sorted_counts = word_counts[sorted_indices]  # Sort frequencies\n",
    "\n",
    "# Calculate the index corresponding to the bottom 1% least frequent terms\n",
    "total_terms = len(sorted_counts)\n",
    "bottom_1_percent_index = int(0.01 * total_terms)\n",
    "\n",
    "# Get the indices of the bottom 1% least frequent terms\n",
    "bottom_1_percent_indices = sorted_indices[:bottom_1_percent_index]\n",
    "\n",
    "# Filter terms that belong to the bottom 1% based on their rank\n",
    "filtered_words = [filt_term_document_dfs[categories[category_number]].iloc[:, i].name for i in bottom_1_percent_indices]\n",
    "\n",
    "print(f\"Category: {categories[category_number]}\")\n",
    "print(f\"Number of terms in bottom 1%: {bottom_1_percent_index}\")\n",
    "print(f\"Filtered terms: {filtered_words}\")"
   ],
   "outputs": [
    {
     "name": "stdout",
     "output_type": "stream",
     "text": [
      "Category: neutral\n",
      "Number of terms in bottom 1%: 28\n",
      "Filtered terms: ['wutang', 'yahoo', '23', '22rate', 'underway', 'undervalued', 'understanding', 'understand', '17th', '15m', '150', '140', 'yoshitsu', '25bps', '10ks', '100x', '34', '33', '31f', 'yall', '12855584', '1242', 'zsil', '118', 'yoyo', 'zgld', 'zone', '1870']\n"
     ]
    }
   ],
   "execution_count": 47
  },
  {
   "metadata": {
    "ExecuteTime": {
     "end_time": "2025-10-26T11:44:29.397825Z",
     "start_time": "2025-10-26T11:44:29.391386Z"
    }
   },
   "cell_type": "code",
   "source": [
    "# Explore the frequencies of the **bottom 1%** words:\n",
    "print(f\"Explore the frequencies of the **bottom 1%** words:\")\n",
    "print(f\"Frequencies sorted in a descending order: {sorted_counts}\")\n",
    "print(f\"Indices corresponding to the words after being sorted in a descending order: {sorted_indices}\")"
   ],
   "outputs": [
    {
     "name": "stdout",
     "output_type": "stream",
     "text": [
      "Explore the frequencies of the **bottom 1%** words:\n",
      "Frequencies sorted in a descending order: [545 355 229 ...   1   1   1]\n",
      "Indices corresponding to the words after being sorted in a descending order: [2555 2597  224 ...   48 2873 2870]\n"
     ]
    }
   ],
   "execution_count": 53
  },
  {
   "metadata": {
    "ExecuteTime": {
     "end_time": "2025-10-26T11:45:05.689235Z",
     "start_time": "2025-10-26T11:45:05.504832Z"
    }
   },
   "cell_type": "code",
   "source": [
    "category_number=1 #You can change it from 0 to 3\n",
    "\n",
    "# Filter the bottom 1% and top 5% words based on their sum across all documents\n",
    "def filter_top_bottom_words_by_sum(term_document_df, top_percent=0.05, bottom_percent=0.01):\n",
    "    # Calculate the sum of each word across all documents\n",
    "    word_sums = term_document_df.sum(axis=0)\n",
    "\n",
    "    # Sort the words by their total sum\n",
    "    sorted_words = word_sums.sort_values()\n",
    "\n",
    "    # Calculate the number of words to remove\n",
    "    total_words = len(sorted_words)\n",
    "    top_n = int(top_percent * total_words)\n",
    "    bottom_n = int(bottom_percent * total_words)\n",
    "\n",
    "    # Get the words to remove from the top 5% and bottom 1%\n",
    "    words_to_remove = pd.concat([sorted_words.head(bottom_n), sorted_words.tail(top_n)]).index\n",
    "    print(f'Bottom {bottom_percent*100}% words: \\n{sorted_words.head(bottom_n)}') #Here we print which words correspond to the bottom percentage we filter\n",
    "    print(f'Top {top_percent*100}% words: \\n{sorted_words.tail(top_n)}') #Here we print which words correspond to the top percentage we filter\n",
    "    # Return the DataFrame without the filtered words\n",
    "    return term_document_df.drop(columns=words_to_remove)\n",
    "\n",
    "# Apply the filtering function to each category\n",
    "term_document_dfs = {}\n",
    "\n",
    "for category in categories:\n",
    "    print(f'\\nFor category {category} we filter the following words:')\n",
    "    term_document_dfs[category] = filter_top_bottom_words_by_sum(filt_term_document_dfs[category])\n",
    "\n",
    "# Example: Display the filtered DataFrame for one of the categories\n",
    "print(f\"Filtered Term-Document Frequency DataFrame for Category {categories[category_number]}:\")\n",
    "term_document_dfs[categories[category_number]]\n"
   ],
   "outputs": [
    {
     "name": "stdout",
     "output_type": "stream",
     "text": [
      "\n",
      "For category negative we filter the following words:\n",
      "Bottom 1.0% words: \n",
      "1973       1\n",
      "1974       1\n",
      "02         1\n",
      "03         1\n",
      "08         1\n",
      "1000       1\n",
      "10000      1\n",
      "newb       1\n",
      "musky      1\n",
      "muslim     1\n",
      "muslims    1\n",
      "must       1\n",
      "myself     1\n",
      "nak        1\n",
      "name       1\n",
      "nancy      1\n",
      "words      1\n",
      "24         1\n",
      "2k         1\n",
      "2s         1\n",
      "30         1\n",
      "160        1\n",
      "dtype: int64\n",
      "Top 5.0% words: \n",
      "crashing     21\n",
      "would        21\n",
      "than         21\n",
      "right        21\n",
      "data         21\n",
      "           ... \n",
      "trump       201\n",
      "and         222\n",
      "is          257\n",
      "to          337\n",
      "the         560\n",
      "Length: 114, dtype: int64\n",
      "\n",
      "For category neutral we filter the following words:\n",
      "Bottom 1.0% words: \n",
      "wutang           1\n",
      "yahoo            1\n",
      "23               1\n",
      "22rate           1\n",
      "underway         1\n",
      "undervalued      1\n",
      "understanding    1\n",
      "understand       1\n",
      "17th             1\n",
      "15m              1\n",
      "150              1\n",
      "140              1\n",
      "yoshitsu         1\n",
      "25bps            1\n",
      "10ks             1\n",
      "100x             1\n",
      "34               1\n",
      "33               1\n",
      "31f              1\n",
      "yall             1\n",
      "12855584         1\n",
      "1242             1\n",
      "zsil             1\n",
      "118              1\n",
      "yoyo             1\n",
      "zgld             1\n",
      "zone             1\n",
      "1870             1\n",
      "dtype: int64\n",
      "Top 5.0% words: \n",
      "fire       19\n",
      "think      19\n",
      "media      19\n",
      "making     19\n",
      "seeing     19\n",
      "         ... \n",
      "of        195\n",
      "is        222\n",
      "and       229\n",
      "to        355\n",
      "the       545\n",
      "Length: 144, dtype: int64\n",
      "\n",
      "For category positive we filter the following words:\n",
      "Bottom 1.0% words: \n",
      "1952           1\n",
      "1728           1\n",
      "16             1\n",
      "153            1\n",
      "offering       1\n",
      "octillion      1\n",
      "occasional     1\n",
      "obvious        1\n",
      "o3             1\n",
      "noticed        1\n",
      "normal         1\n",
      "nonetheless    1\n",
      "oracle         1\n",
      "dtype: int64\n",
      "Top 5.0% words: \n",
      "time      9\n",
      "how       9\n",
      "as        9\n",
      "look     10\n",
      "data     10\n",
      "       ... \n",
      "in       56\n",
      "is       75\n",
      "to       84\n",
      "and      90\n",
      "the     157\n",
      "Length: 66, dtype: int64\n",
      "Filtered Term-Document Frequency DataFrame for Category neutral:\n"
     ]
    },
    {
     "data": {
      "text/plain": [
       "     00  000  01378  027  08  100  100k  10k  10yr  12  ...  years  yes  \\\n",
       "0     0    0      0    0   0    0     0    0     0   0  ...      0    0   \n",
       "1     0    0      0    0   0    0     0    0     0   0  ...      0    0   \n",
       "2     0    0      0    0   0    0     0    0     0   0  ...      0    0   \n",
       "3     0    0      0    0   0    0     0    0     0   0  ...      0    0   \n",
       "4     0    0      0    0   0    0     0    0     0   0  ...      0    0   \n",
       "..   ..  ...    ...  ...  ..  ...   ...  ...   ...  ..  ...    ...  ...   \n",
       "418   0    0      0    0   0    0     0    0     0   0  ...      0    0   \n",
       "419   0    0      0    0   0    0     0    0     0   0  ...      0    0   \n",
       "420   0    0      0    0   0    0     0    0     0   0  ...      0    0   \n",
       "421   0    0      0    0   0    0     0    0     0   0  ...      0    0   \n",
       "422   0    0      0    0   0    0     0    0     0   0  ...      0    0   \n",
       "\n",
       "     yesterday  yet  yield  yields  young  yours  yourself  yup  \n",
       "0            0    0      0       0      0      0         0    0  \n",
       "1            0    0      0       0      0      0         0    0  \n",
       "2            0    0      0       0      0      0         0    0  \n",
       "3            0    0      0       0      0      0         0    0  \n",
       "4            0    0      0       0      0      0         0    0  \n",
       "..         ...  ...    ...     ...    ...    ...       ...  ...  \n",
       "418          0    0      0       0      0      0         0    0  \n",
       "419          0    0      0       0      0      0         0    0  \n",
       "420          0    0      0       0      0      0         0    0  \n",
       "421          0    0      0       0      0      0         0    0  \n",
       "422          0    0      0       0      0      0         0    0  \n",
       "\n",
       "[423 rows x 2724 columns]"
      ],
      "text/html": [
       "<div>\n",
       "<style scoped>\n",
       "    .dataframe tbody tr th:only-of-type {\n",
       "        vertical-align: middle;\n",
       "    }\n",
       "\n",
       "    .dataframe tbody tr th {\n",
       "        vertical-align: top;\n",
       "    }\n",
       "\n",
       "    .dataframe thead th {\n",
       "        text-align: right;\n",
       "    }\n",
       "</style>\n",
       "<table border=\"1\" class=\"dataframe\">\n",
       "  <thead>\n",
       "    <tr style=\"text-align: right;\">\n",
       "      <th></th>\n",
       "      <th>00</th>\n",
       "      <th>000</th>\n",
       "      <th>01378</th>\n",
       "      <th>027</th>\n",
       "      <th>08</th>\n",
       "      <th>100</th>\n",
       "      <th>100k</th>\n",
       "      <th>10k</th>\n",
       "      <th>10yr</th>\n",
       "      <th>12</th>\n",
       "      <th>...</th>\n",
       "      <th>years</th>\n",
       "      <th>yes</th>\n",
       "      <th>yesterday</th>\n",
       "      <th>yet</th>\n",
       "      <th>yield</th>\n",
       "      <th>yields</th>\n",
       "      <th>young</th>\n",
       "      <th>yours</th>\n",
       "      <th>yourself</th>\n",
       "      <th>yup</th>\n",
       "    </tr>\n",
       "  </thead>\n",
       "  <tbody>\n",
       "    <tr>\n",
       "      <th>0</th>\n",
       "      <td>0</td>\n",
       "      <td>0</td>\n",
       "      <td>0</td>\n",
       "      <td>0</td>\n",
       "      <td>0</td>\n",
       "      <td>0</td>\n",
       "      <td>0</td>\n",
       "      <td>0</td>\n",
       "      <td>0</td>\n",
       "      <td>0</td>\n",
       "      <td>...</td>\n",
       "      <td>0</td>\n",
       "      <td>0</td>\n",
       "      <td>0</td>\n",
       "      <td>0</td>\n",
       "      <td>0</td>\n",
       "      <td>0</td>\n",
       "      <td>0</td>\n",
       "      <td>0</td>\n",
       "      <td>0</td>\n",
       "      <td>0</td>\n",
       "    </tr>\n",
       "    <tr>\n",
       "      <th>1</th>\n",
       "      <td>0</td>\n",
       "      <td>0</td>\n",
       "      <td>0</td>\n",
       "      <td>0</td>\n",
       "      <td>0</td>\n",
       "      <td>0</td>\n",
       "      <td>0</td>\n",
       "      <td>0</td>\n",
       "      <td>0</td>\n",
       "      <td>0</td>\n",
       "      <td>...</td>\n",
       "      <td>0</td>\n",
       "      <td>0</td>\n",
       "      <td>0</td>\n",
       "      <td>0</td>\n",
       "      <td>0</td>\n",
       "      <td>0</td>\n",
       "      <td>0</td>\n",
       "      <td>0</td>\n",
       "      <td>0</td>\n",
       "      <td>0</td>\n",
       "    </tr>\n",
       "    <tr>\n",
       "      <th>2</th>\n",
       "      <td>0</td>\n",
       "      <td>0</td>\n",
       "      <td>0</td>\n",
       "      <td>0</td>\n",
       "      <td>0</td>\n",
       "      <td>0</td>\n",
       "      <td>0</td>\n",
       "      <td>0</td>\n",
       "      <td>0</td>\n",
       "      <td>0</td>\n",
       "      <td>...</td>\n",
       "      <td>0</td>\n",
       "      <td>0</td>\n",
       "      <td>0</td>\n",
       "      <td>0</td>\n",
       "      <td>0</td>\n",
       "      <td>0</td>\n",
       "      <td>0</td>\n",
       "      <td>0</td>\n",
       "      <td>0</td>\n",
       "      <td>0</td>\n",
       "    </tr>\n",
       "    <tr>\n",
       "      <th>3</th>\n",
       "      <td>0</td>\n",
       "      <td>0</td>\n",
       "      <td>0</td>\n",
       "      <td>0</td>\n",
       "      <td>0</td>\n",
       "      <td>0</td>\n",
       "      <td>0</td>\n",
       "      <td>0</td>\n",
       "      <td>0</td>\n",
       "      <td>0</td>\n",
       "      <td>...</td>\n",
       "      <td>0</td>\n",
       "      <td>0</td>\n",
       "      <td>0</td>\n",
       "      <td>0</td>\n",
       "      <td>0</td>\n",
       "      <td>0</td>\n",
       "      <td>0</td>\n",
       "      <td>0</td>\n",
       "      <td>0</td>\n",
       "      <td>0</td>\n",
       "    </tr>\n",
       "    <tr>\n",
       "      <th>4</th>\n",
       "      <td>0</td>\n",
       "      <td>0</td>\n",
       "      <td>0</td>\n",
       "      <td>0</td>\n",
       "      <td>0</td>\n",
       "      <td>0</td>\n",
       "      <td>0</td>\n",
       "      <td>0</td>\n",
       "      <td>0</td>\n",
       "      <td>0</td>\n",
       "      <td>...</td>\n",
       "      <td>0</td>\n",
       "      <td>0</td>\n",
       "      <td>0</td>\n",
       "      <td>0</td>\n",
       "      <td>0</td>\n",
       "      <td>0</td>\n",
       "      <td>0</td>\n",
       "      <td>0</td>\n",
       "      <td>0</td>\n",
       "      <td>0</td>\n",
       "    </tr>\n",
       "    <tr>\n",
       "      <th>...</th>\n",
       "      <td>...</td>\n",
       "      <td>...</td>\n",
       "      <td>...</td>\n",
       "      <td>...</td>\n",
       "      <td>...</td>\n",
       "      <td>...</td>\n",
       "      <td>...</td>\n",
       "      <td>...</td>\n",
       "      <td>...</td>\n",
       "      <td>...</td>\n",
       "      <td>...</td>\n",
       "      <td>...</td>\n",
       "      <td>...</td>\n",
       "      <td>...</td>\n",
       "      <td>...</td>\n",
       "      <td>...</td>\n",
       "      <td>...</td>\n",
       "      <td>...</td>\n",
       "      <td>...</td>\n",
       "      <td>...</td>\n",
       "      <td>...</td>\n",
       "    </tr>\n",
       "    <tr>\n",
       "      <th>418</th>\n",
       "      <td>0</td>\n",
       "      <td>0</td>\n",
       "      <td>0</td>\n",
       "      <td>0</td>\n",
       "      <td>0</td>\n",
       "      <td>0</td>\n",
       "      <td>0</td>\n",
       "      <td>0</td>\n",
       "      <td>0</td>\n",
       "      <td>0</td>\n",
       "      <td>...</td>\n",
       "      <td>0</td>\n",
       "      <td>0</td>\n",
       "      <td>0</td>\n",
       "      <td>0</td>\n",
       "      <td>0</td>\n",
       "      <td>0</td>\n",
       "      <td>0</td>\n",
       "      <td>0</td>\n",
       "      <td>0</td>\n",
       "      <td>0</td>\n",
       "    </tr>\n",
       "    <tr>\n",
       "      <th>419</th>\n",
       "      <td>0</td>\n",
       "      <td>0</td>\n",
       "      <td>0</td>\n",
       "      <td>0</td>\n",
       "      <td>0</td>\n",
       "      <td>0</td>\n",
       "      <td>0</td>\n",
       "      <td>0</td>\n",
       "      <td>0</td>\n",
       "      <td>0</td>\n",
       "      <td>...</td>\n",
       "      <td>0</td>\n",
       "      <td>0</td>\n",
       "      <td>0</td>\n",
       "      <td>0</td>\n",
       "      <td>0</td>\n",
       "      <td>0</td>\n",
       "      <td>0</td>\n",
       "      <td>0</td>\n",
       "      <td>0</td>\n",
       "      <td>0</td>\n",
       "    </tr>\n",
       "    <tr>\n",
       "      <th>420</th>\n",
       "      <td>0</td>\n",
       "      <td>0</td>\n",
       "      <td>0</td>\n",
       "      <td>0</td>\n",
       "      <td>0</td>\n",
       "      <td>0</td>\n",
       "      <td>0</td>\n",
       "      <td>0</td>\n",
       "      <td>0</td>\n",
       "      <td>0</td>\n",
       "      <td>...</td>\n",
       "      <td>0</td>\n",
       "      <td>0</td>\n",
       "      <td>0</td>\n",
       "      <td>0</td>\n",
       "      <td>0</td>\n",
       "      <td>0</td>\n",
       "      <td>0</td>\n",
       "      <td>0</td>\n",
       "      <td>0</td>\n",
       "      <td>0</td>\n",
       "    </tr>\n",
       "    <tr>\n",
       "      <th>421</th>\n",
       "      <td>0</td>\n",
       "      <td>0</td>\n",
       "      <td>0</td>\n",
       "      <td>0</td>\n",
       "      <td>0</td>\n",
       "      <td>0</td>\n",
       "      <td>0</td>\n",
       "      <td>0</td>\n",
       "      <td>0</td>\n",
       "      <td>0</td>\n",
       "      <td>...</td>\n",
       "      <td>0</td>\n",
       "      <td>0</td>\n",
       "      <td>0</td>\n",
       "      <td>0</td>\n",
       "      <td>0</td>\n",
       "      <td>0</td>\n",
       "      <td>0</td>\n",
       "      <td>0</td>\n",
       "      <td>0</td>\n",
       "      <td>0</td>\n",
       "    </tr>\n",
       "    <tr>\n",
       "      <th>422</th>\n",
       "      <td>0</td>\n",
       "      <td>0</td>\n",
       "      <td>0</td>\n",
       "      <td>0</td>\n",
       "      <td>0</td>\n",
       "      <td>0</td>\n",
       "      <td>0</td>\n",
       "      <td>0</td>\n",
       "      <td>0</td>\n",
       "      <td>0</td>\n",
       "      <td>...</td>\n",
       "      <td>0</td>\n",
       "      <td>0</td>\n",
       "      <td>0</td>\n",
       "      <td>0</td>\n",
       "      <td>0</td>\n",
       "      <td>0</td>\n",
       "      <td>0</td>\n",
       "      <td>0</td>\n",
       "      <td>0</td>\n",
       "      <td>0</td>\n",
       "    </tr>\n",
       "  </tbody>\n",
       "</table>\n",
       "<p>423 rows × 2724 columns</p>\n",
       "</div>"
      ]
     },
     "execution_count": 54,
     "metadata": {},
     "output_type": "execute_result"
    }
   ],
   "execution_count": 54
  },
  {
   "metadata": {
    "ExecuteTime": {
     "end_time": "2025-10-26T11:48:55.473792Z",
     "start_time": "2025-10-26T11:48:54.894748Z"
    }
   },
   "cell_type": "code",
   "source": [
    "# ==========================================\n",
    "# Exercise 16\n",
    "# ==========================================\n",
    "# 1) Get the vocabulary terms in order\n",
    "terms = np.array(count_vect.get_feature_names_out())\n",
    "# 2) Turn the sparse term-document matrix into a DataFrame\n",
    "tdm_df = pd.DataFrame(X_counts.toarray(), columns=terms)\n",
    "# 3) Attach the category label to each row (document)\n",
    "tdm_df['category'] = X['category'].values\n",
    "# 4) Sum term counts within each category\n",
    "cat_term_totals = tdm_df.groupby('category').sum(numeric_only=True)\n",
    "# 5) Helper: get top-N terms from a single category row\n",
    "def top_n_terms(row, n=15): # row is a 1D Series of term counts\n",
    "    vals = row.values\n",
    "    idx = np.argsort(vals)[-n:][::-1]  # indices of top n counts\n",
    "    return list(zip(terms[idx], vals[idx].astype(int)))\n",
    "# 6) Print the top terms per category\n",
    "for cat, row in cat_term_totals.iterrows():\n",
    "    print(f\"\\n=== {cat} ===\")\n",
    "    for w, c in top_n_terms(row, n=15):\n",
    "        print(f\"{w}: {c}\")"
   ],
   "outputs": [
    {
     "name": "stdout",
     "output_type": "stream",
     "text": [
      "\n",
      "=== -1.0 ===\n",
      "the: 560\n",
      "to: 337\n",
      "is: 257\n",
      "and: 222\n",
      "trump: 201\n",
      "of: 174\n",
      "in: 170\n",
      "it: 164\n",
      "for: 129\n",
      "on: 119\n",
      "that: 108\n",
      "you: 105\n",
      "he: 105\n",
      "china: 104\n",
      "this: 104\n",
      "\n",
      "=== 0.0 ===\n",
      "the: 545\n",
      "to: 355\n",
      "and: 229\n",
      "is: 222\n",
      "of: 195\n",
      "it: 185\n",
      "in: 183\n",
      "for: 155\n",
      "on: 144\n",
      "trump: 119\n",
      "you: 116\n",
      "that: 108\n",
      "this: 98\n",
      "market: 95\n",
      "with: 94\n",
      "\n",
      "=== 1.0 ===\n",
      "the: 157\n",
      "and: 90\n",
      "to: 84\n",
      "is: 75\n",
      "in: 56\n",
      "for: 55\n",
      "it: 48\n",
      "on: 41\n",
      "of: 39\n",
      "with: 38\n",
      "this: 29\n",
      "you: 27\n",
      "trump: 23\n",
      "that: 23\n",
      "just: 22\n"
     ]
    }
   ],
   "execution_count": 55
  },
  {
   "metadata": {},
   "cell_type": "code",
   "outputs": [],
   "execution_count": null,
   "source": ""
  },
  {
   "metadata": {},
   "cell_type": "code",
   "outputs": [],
   "execution_count": null,
   "source": [
    "# ==========================================\n",
    "# Exercise 17\n",
    "# =========================================="
   ]
  },
  {
   "metadata": {},
   "cell_type": "code",
   "outputs": [],
   "execution_count": null,
   "source": [
    "# ==========================================\n",
    "# Exercise 18\n",
    "# =========================================="
   ]
  },
  {
   "metadata": {},
   "cell_type": "code",
   "outputs": [],
   "execution_count": null,
   "source": [
    "# ==========================================\n",
    "# Exercise 19\n",
    "# =========================================="
   ]
  },
  {
   "metadata": {},
   "cell_type": "code",
   "outputs": [],
   "execution_count": null,
   "source": [
    "# ==========================================\n",
    "# Exercise 20\n",
    "# =========================================="
   ]
  }
 ],
 "metadata": {
  "kernelspec": {
   "display_name": "Python 3 (ipykernel)",
   "language": "python",
   "name": "python3"
  },
  "language_info": {
   "codemirror_mode": {
    "name": "ipython",
    "version": 3
   },
   "file_extension": ".py",
   "mimetype": "text/x-python",
   "name": "python",
   "nbconvert_exporter": "python",
   "pygments_lexer": "ipython3",
   "version": "3.11.0"
  }
 },
 "nbformat": 4,
 "nbformat_minor": 4
}
