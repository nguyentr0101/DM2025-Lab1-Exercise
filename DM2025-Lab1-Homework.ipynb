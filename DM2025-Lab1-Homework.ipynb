{
 "cells": [
  {
   "cell_type": "markdown",
   "metadata": {},
   "source": [
    "### Student Information\n",
    "Name: Truong Ngoc Khoi Nguyen\n",
    "\n",
    "Student ID: D142113032\n",
    "\n",
    "GitHub ID: nguyentr0101"
   ]
  },
  {
   "cell_type": "markdown",
   "metadata": {},
   "source": [
    "---"
   ]
  },
  {
   "cell_type": "markdown",
   "metadata": {},
   "source": [
    "### Instructions"
   ]
  },
  {
   "cell_type": "markdown",
   "metadata": {},
   "source": [
    "### First Phase Submission"
   ]
  },
  {
   "cell_type": "markdown",
   "metadata": {},
   "source": [
    "1. First: do the **take home** exercises in the [DM2025-Lab1-Master](https://github.com/leoson-wu/DM2025-Lab1-Exercise/blob/main/DM2025-Lab1-Master.ipynb) that considered as **phase 1 (from exercise 1 to exercise 15)**. You can answer in the master file. __This part is worth 10% of your grade.__\n",
    "\n",
    "\n",
    "2. Second: follow the same process from the [DM2025-Lab1-Master](https://github.com/leoson-wu/DM2025-Lab1-Exercise/blob/main/DM2025-Lab1-Master.ipynb) on **the new dataset** up **until phase 1**. You can skip some exercises if you think some steps are not necessary. However main exercises should be completed. You don't need to explain all details as we did (some **minimal comments** explaining your code are useful though).  __This part is worth 15% of your grade.__\n",
    "    -  Use [the new dataset](https://github.com/leoson-wu/DM2025-Lab1-Exercise/blob/main/newdataset/Reddit-stock-sentiment.csv). The dataset contains a 16 columns including 'text' and 'label', with the sentiment labels being: 1.0 is positive, 0.0 is neutral and -1.0 is negative. You can simplify the dataset and use only the columns that you think are necessary. \n",
    "    \n",
    "    - You are allowed to use and modify the `helper` functions in the folder of the first lab session (notice they may need modification) or create your own.\n",
    "    - Use this file to complete the homework from the second part. Make sure the code can be run from the beginning till the end and has all the needed output.\n",
    "\n",
    "\n",
    "3. Third: please attempt the following tasks on **the new dataset**. __This part is worth 10% of your grade.__\n",
    "    - Generate meaningful **new data visualizations**. Refer to online resources and the Data Mining textbook for inspiration and ideas. \n",
    "    \n",
    "\n",
    "\n",
    "4. Fourth: It's hard for us to follow if your code is messy, so please **tidy up your notebook** and **add minimal comments where needed**. __This part is worth 5% of your grade.__\n",
    "\n",
    "You can submit your homework following these guidelines: [DM2025-Lab1-announcement](https://github.com/leoson-wu/DM2025-Lab1-Announcement/blob/main/README.md). Make sure to commit and save your changes to your repository __BEFORE the deadline (September 28th 11:59 pm, Sunday)__. "
   ]
  },
  {
   "cell_type": "markdown",
   "metadata": {},
   "source": [
    "### Second Phase Submission "
   ]
  },
  {
   "cell_type": "markdown",
   "metadata": {},
   "source": [
    "**You can keep the answer for phase 1 for easier running and update the phase 2 on the same page.**\n",
    "\n",
    "1. First: Continue doing the **take home** exercises in the [DM2025-Lab1-Master](https://github.com/leoson-wu/DM2025-Lab1-Exercise/blob/main/DM2025-Lab1-Master.ipynb) for **phase 2, starting from Finding frequent patterns**. Use the same master(.ipynb) file. Answer from phase 1 will not be considered at this stage. You can answer in the master file. __This part is worth 10% of your grade.__\n",
    "\n",
    "\n",
    "2. Second: Continue from first phase and do the same process from the [DM2025-Lab1-Master](https://github.com/leoson-wu/DM2025-Lab1-Exercise/blob/main/DM2025-Lab1-Master.ipynb) on **the new dataset** for phase 2, starting from Finding frequent pattern. You can skip some exercises if you think some steps are not necessary. However main exercises should be completed. You don't need to explain all details as we did (some **minimal comments** explaining your code are useful though).  __This part is worth 15% of your grade.__\n",
    "    - Continue using this file to complete the homework from the second part. Make sure the code can be run from the beginning till the end and has all the needed output. Use the same new dataset as in phase 1.\n",
    "    \n",
    "    - You are allowed to use and modify the `helper` functions in the folder of the first lab session (notice they may need modification) or create your own.\n",
    "\n",
    "3. Third: please attempt the following tasks on **the new dataset**. __This part is worth 20% of your grade.__\n",
    "    - Use this file to answer.\n",
    "    - Generate **TF-IDF features** from the tokens of each text. This will generating a document matrix, however, the weights will be computed differently (using the TF-IDF value of each word per document as opposed to the word frequency).  Refer to this Scikit-learn [guide](http://scikit-learn.org/stable/modules/generated/sklearn.feature_extraction.text.TfidfVectorizer.html) .\n",
    "    - Implement a simple **Naive Bayes classifier** that automatically classifies the records into their categories. Use both the TF-IDF features and word frequency features to build two seperate classifiers. Note that for the TF-IDF features you might need to use other type of NB classifier different than the one in the Master Notebook. Comment on the differences and when using augmentation with feature pattern.  Refer to this [article](https://hub.packtpub.com/implementing-3-naive-bayes-classifiers-in-scikit-learn/).\n",
    "\n",
    "\n",
    "4. Fourth: In the lab, we applied each step really quickly just to illustrate how to work with your dataset. There are somethings that are not ideal or the most efficient/meaningful. Each dataset can be handled differently as well. What are those inefficent parts you noticed? How can you improve the Data preprocessing for these specific datasets? __This part is worth 10% of your grade.__\n",
    "\n",
    "\n",
    "5. Fifth: It's hard for us to follow if your code is messy, so please **tidy up your notebook** and **add minimal comments where needed**. __This part is worth 5% of your grade.__\n",
    "\n",
    "\n",
    "You can submit your homework following these guidelines: [DM2025-Lab1-announcement](https://github.com/leoson-wu/DM2025-Lab1-Announcement/blob/main/README.md). Make sure to commit and save your changes to your repository __BEFORE the deadline (October 19th 11:59 pm, Sunday)__. "
   ]
  },
  {
   "cell_type": "markdown",
   "metadata": {},
   "source": [
    "# Phase 1"
   ]
  },
  {
   "cell_type": "code",
   "metadata": {
    "ExecuteTime": {
     "end_time": "2025-10-05T02:51:44.093331Z",
     "start_time": "2025-10-05T02:51:44.016393Z"
    }
   },
   "source": [
    "### Begin Assignment Here\n",
    "import pandas as pd\n",
    "import numpy as np\n",
    "import nltk\n",
    "nltk.download('punkt') # download the NLTK datasets\n",
    "from sklearn.datasets import fetch_20newsgroups\n",
    "from sklearn.feature_extraction.text import CountVectorizer\n",
    "import plotly as py\n",
    "import math\n",
    "# If you get \"ModuleNotFoundError: No module named 'PAMI'\"\n",
    "# run the following in a new Jupyter cell:\n",
    "# !pip3 install PAMI\n",
    "import PAMI\n",
    "import umap"
   ],
   "outputs": [
    {
     "name": "stderr",
     "output_type": "stream",
     "text": [
      "[nltk_data] Error loading punkt: <urlopen error [SSL:\n",
      "[nltk_data]     CERTIFICATE_VERIFY_FAILED] certificate verify failed:\n",
      "[nltk_data]     unable to get local issuer certificate (_ssl.c:1028)>\n"
     ]
    }
   ],
   "execution_count": 8
  },
  {
   "metadata": {
    "ExecuteTime": {
     "end_time": "2025-10-05T03:10:45.842933Z",
     "start_time": "2025-10-05T03:10:45.768713Z"
    }
   },
   "cell_type": "code",
   "source": [
    "DATA_PATH = \"newdataset/Reddit-stock-sentiment.csv\"\n",
    "df= pd.read_csv(DATA_PATH)\n",
    "\n",
    "print(\"\\nFirst 5 records:\")\n",
    "print(df.head())\n",
    "\n",
    "print(\"\\nData types:\")\n",
    "print(df.dtypes)\n",
    "\n",
    "text_columns = df.select_dtypes(include=['object']).columns.tolist()\n",
    "print(f\"\\nText columns found: {text_columns}\")\n",
    "\n",
    "# Keep only what we need\n",
    "X = pd.DataFrame()\n",
    "X['text'] = df['title'] + ' ' + df['text']  # Combine title and text\n",
    "X['category'] = df['label']  # Numerical label\n",
    "X['category_name'] = df['label'].map({-1: 'negative', 0: 'neutral', 1: 'positive'})\n",
    "\n",
    "print(f\"Dataset shape: {X.shape}\")\n",
    "print(f\"\\nCategory distribution:\")\n",
    "print(X['category_name'].value_counts())\n"
   ],
   "outputs": [
    {
     "name": "stdout",
     "output_type": "stream",
     "text": [
      "\n",
      "First 5 records:\n",
      "      type             datetime  post_id         subreddit  \\\n",
      "0  comment  2025-04-11 17:29:56  mmli62w    wallstreetbets   \n",
      "1  comment   2025-04-12 1:12:19  mmnu7v9    wallstreetbets   \n",
      "2  comment  2025-04-10 15:09:41  mmeevio       StockMarket   \n",
      "3     post  2023-08-30 17:12:55  165kllm  stockstobuytoday   \n",
      "4  comment  2025-04-11 14:48:05  mmkl6bw       StockMarket   \n",
      "\n",
      "                                               title                author  \\\n",
      "0    Retardation is on the menu boys! WSB is so back          StickyTip420   \n",
      "1  Retail giant TARGET has now declined for 10 co...  Comfortable-Dog-8437   \n",
      "2  How do you feel about a sitting president maki...          Btankersly66   \n",
      "3                              Who knows more? $VMAR             emiljenfn   \n",
      "4  The Trump administration is begging Xi Jinping...          Just-Big6411   \n",
      "\n",
      "                                                 url  upvotes  downvotes  \\\n",
      "0               https://i.redd.it/0yq2ftren8ue1.jpeg        0        NaN   \n",
      "1               https://i.redd.it/7tl6puv9waue1.jpeg      -15        NaN   \n",
      "2  https://apnews.com/article/trump-truth-social-...        1        NaN   \n",
      "3  https://www.reddit.com/r/stockstobuytoday/comm...       30        0.0   \n",
      "4  https://edition.cnn.com/2025/04/10/politics/tr...        1        NaN   \n",
      "\n",
      "   upvote_ratio                                               text  \\\n",
      "0           NaN                                   Calls on retards   \n",
      "1           NaN  Stunt as in like why did they even make a big ...   \n",
      "2           NaN                  Seeing lots of red in the ticker.   \n",
      "3          0.98  Vision Marine Technologies Inc. is rewriting t...   \n",
      "4           NaN                           He didn’t say thank you.   \n",
      "\n",
      "   subjectivity  polarity  sentiment  \\\n",
      "0      1.000000 -0.900000       -1.0   \n",
      "1      0.177778  0.083333        1.0   \n",
      "2      0.000000  0.000000        0.0   \n",
      "3      0.646970  0.216383        1.0   \n",
      "4      0.000000  0.000000        0.0   \n",
      "\n",
      "                                            entities  label  \n",
      "0                                                 []   -1.0  \n",
      "1              ['Stunt', 'company', 'deal', 'place']    0.0  \n",
      "2                                         ['ticker']    0.0  \n",
      "3  ['watercraft', 'skill', 'power', ']', 'feat', ...    1.0  \n",
      "4                                                 []   -1.0  \n",
      "\n",
      "Data types:\n",
      "type             object\n",
      "datetime         object\n",
      "post_id          object\n",
      "subreddit        object\n",
      "title            object\n",
      "author           object\n",
      "url              object\n",
      "upvotes           int64\n",
      "downvotes       float64\n",
      "upvote_ratio    float64\n",
      "text             object\n",
      "subjectivity    float64\n",
      "polarity        float64\n",
      "sentiment       float64\n",
      "entities         object\n",
      "label           float64\n",
      "dtype: object\n",
      "\n",
      "Text columns found: ['type', 'datetime', 'post_id', 'subreddit', 'title', 'author', 'url', 'text', 'entities']\n",
      "Dataset shape: (847, 3)\n",
      "\n",
      "Category distribution:\n",
      "category_name\n",
      "neutral     423\n",
      "negative    315\n",
      "positive    109\n",
      "Name: count, dtype: int64\n",
      "\n",
      "Sample texts from each category:\n",
      "example 1\n",
      "Retardation is on the menu boys! WSB is so back Calls on retards\n",
      "\n",
      "example 2\n",
      "Retail giant TARGET has now declined for 10 consecutive weeks, its longest losing streak in history Stunt as in like why did they even make a big deal about starting it in the first place? No company should ever talk about politics ever.\n",
      "\n",
      "example 3\n",
      "How do you feel about a sitting president making $415M in one day after pumping his own stock with social media and a policy decision? Seeing lots of red in the ticker.\n",
      "\n",
      "\n",
      "Sample texts from each category:\n",
      "\n",
      "negative:\n",
      "Retardation is on the menu boys! WSB is so back Calls on retards\n",
      "\n",
      "neutral:\n",
      "Retail giant TARGET has now declined for 10 consecutive weeks, its longest losing streak in history Stunt as in like why did they even make a big deal about starting it in the first place? No company ...\n",
      "\n",
      "positive:\n",
      "Who knows more? $VMAR Vision Marine Technologies Inc. is rewriting the watercraft rulebook. Their collaboration with Shaun Torrente has achieved the unthinkable – a blazing 116 mph on water! This isn'...\n"
     ]
    }
   ],
   "execution_count": 18
  },
  {
   "metadata": {
    "ExecuteTime": {
     "end_time": "2025-10-05T03:12:54.985458Z",
     "start_time": "2025-10-05T03:12:54.943599Z"
    }
   },
   "cell_type": "code",
   "source": [
    "# ==========================================\n",
    "# Exercise 1\n",
    "# ==========================================\n",
    "# Print out the text data for the first three samples in the dataset\n",
    "print(\"\\nFirst 3 samples in the dataset:\")\n",
    "for i in range(3):\n",
    "    print(f\"example {i+1}\")\n",
    "    print(X['text'][i])\n",
    "    print()\n",
    "\n",
    "# Display sample texts\n",
    "print(\"\\nSample texts from each category:\")\n",
    "for category in X['category_name'].unique():\n",
    "    if pd.notna(category):\n",
    "        sample = X[X['category_name'] == category].iloc[0]['text']\n",
    "        print(f\"\\n{category}:\")\n",
    "        print(sample[:200] + \"...\" if len(str(sample)) > 200 else sample)"
   ],
   "outputs": [
    {
     "name": "stdout",
     "output_type": "stream",
     "text": [
      "\n",
      "First 3 samples in the dataset:\n",
      "example 1\n",
      "Retardation is on the menu boys! WSB is so back Calls on retards\n",
      "\n",
      "example 2\n",
      "Retail giant TARGET has now declined for 10 consecutive weeks, its longest losing streak in history Stunt as in like why did they even make a big deal about starting it in the first place? No company should ever talk about politics ever.\n",
      "\n",
      "example 3\n",
      "How do you feel about a sitting president making $415M in one day after pumping his own stock with social media and a policy decision? Seeing lots of red in the ticker.\n",
      "\n",
      "\n",
      "Sample texts from each category:\n",
      "\n",
      "negative:\n",
      "Retardation is on the menu boys! WSB is so back Calls on retards\n",
      "\n",
      "neutral:\n",
      "Retail giant TARGET has now declined for 10 consecutive weeks, its longest losing streak in history Stunt as in like why did they even make a big deal about starting it in the first place? No company ...\n",
      "\n",
      "positive:\n",
      "Who knows more? $VMAR Vision Marine Technologies Inc. is rewriting the watercraft rulebook. Their collaboration with Shaun Torrente has achieved the unthinkable – a blazing 116 mph on water! This isn'...\n"
     ]
    }
   ],
   "execution_count": 20
  },
  {
   "metadata": {
    "ExecuteTime": {
     "end_time": "2025-10-05T03:16:08.214748Z",
     "start_time": "2025-10-05T03:16:08.194613Z"
    }
   },
   "cell_type": "code",
   "source": [
    "# ==========================================\n",
    "# Exercise 2\n",
    "# ==========================================\n",
    "X.loc[0:10, [\"text\", \"category_name\"]]\n",
    "\n",
    "X[X[\"category_name\"] == \"positive\"].head(5)\n",
    "\n",
    "some_idx = [1, 81, 92, 100]\n",
    "X.loc[some_idx, [\"text\", \"category_name\"]]"
   ],
   "outputs": [
    {
     "data": {
      "text/plain": [
       "                                                  text category_name\n",
       "1    Retail giant TARGET has now declined for 10 co...       neutral\n",
       "81   Retardation is on the menu boys! WSB is so bac...      positive\n",
       "92   Data Shows US Allies—Not China—Dumping Treasur...       neutral\n",
       "100  The Trump administration is begging Xi Jinping...      negative"
      ],
      "text/html": [
       "<div>\n",
       "<style scoped>\n",
       "    .dataframe tbody tr th:only-of-type {\n",
       "        vertical-align: middle;\n",
       "    }\n",
       "\n",
       "    .dataframe tbody tr th {\n",
       "        vertical-align: top;\n",
       "    }\n",
       "\n",
       "    .dataframe thead th {\n",
       "        text-align: right;\n",
       "    }\n",
       "</style>\n",
       "<table border=\"1\" class=\"dataframe\">\n",
       "  <thead>\n",
       "    <tr style=\"text-align: right;\">\n",
       "      <th></th>\n",
       "      <th>text</th>\n",
       "      <th>category_name</th>\n",
       "    </tr>\n",
       "  </thead>\n",
       "  <tbody>\n",
       "    <tr>\n",
       "      <th>1</th>\n",
       "      <td>Retail giant TARGET has now declined for 10 co...</td>\n",
       "      <td>neutral</td>\n",
       "    </tr>\n",
       "    <tr>\n",
       "      <th>81</th>\n",
       "      <td>Retardation is on the menu boys! WSB is so bac...</td>\n",
       "      <td>positive</td>\n",
       "    </tr>\n",
       "    <tr>\n",
       "      <th>92</th>\n",
       "      <td>Data Shows US Allies—Not China—Dumping Treasur...</td>\n",
       "      <td>neutral</td>\n",
       "    </tr>\n",
       "    <tr>\n",
       "      <th>100</th>\n",
       "      <td>The Trump administration is begging Xi Jinping...</td>\n",
       "      <td>negative</td>\n",
       "    </tr>\n",
       "  </tbody>\n",
       "</table>\n",
       "</div>"
      ]
     },
     "execution_count": 24,
     "metadata": {},
     "output_type": "execute_result"
    }
   ],
   "execution_count": 24
  },
  {
   "metadata": {
    "ExecuteTime": {
     "end_time": "2025-10-05T03:20:38.245365Z",
     "start_time": "2025-10-05T03:20:38.195959Z"
    }
   },
   "cell_type": "code",
   "source": [
    "# ==========================================\n",
    "# Exercise 3\n",
    "# ==========================================\n",
    "# Fetch records belonging to 'positive' sentiment, query every 10th record, show first 5\n",
    "X[X[\"category_name\"] == \"positive\"][::10][0:5]\n",
    "# Fetch records belonging to 'negative' sentiment, query every 10th record, show first 5\n",
    "X[X[\"category_name\"] == \"negative\"][::10][0:5]"
   ],
   "outputs": [
    {
     "data": {
      "text/plain": [
       "                                                  text  category category_name\n",
       "0    Retardation is on the menu boys! WSB is so bac...      -1.0      negative\n",
       "25   Retail giant TARGET has now declined for 10 co...      -1.0      negative\n",
       "62   The Trump administration is begging Xi Jinping...      -1.0      negative\n",
       "95   Data Shows US Allies—Not China—Dumping Treasur...      -1.0      negative\n",
       "125  The Trump administration is begging Xi Jinping...      -1.0      negative"
      ],
      "text/html": [
       "<div>\n",
       "<style scoped>\n",
       "    .dataframe tbody tr th:only-of-type {\n",
       "        vertical-align: middle;\n",
       "    }\n",
       "\n",
       "    .dataframe tbody tr th {\n",
       "        vertical-align: top;\n",
       "    }\n",
       "\n",
       "    .dataframe thead th {\n",
       "        text-align: right;\n",
       "    }\n",
       "</style>\n",
       "<table border=\"1\" class=\"dataframe\">\n",
       "  <thead>\n",
       "    <tr style=\"text-align: right;\">\n",
       "      <th></th>\n",
       "      <th>text</th>\n",
       "      <th>category</th>\n",
       "      <th>category_name</th>\n",
       "    </tr>\n",
       "  </thead>\n",
       "  <tbody>\n",
       "    <tr>\n",
       "      <th>0</th>\n",
       "      <td>Retardation is on the menu boys! WSB is so bac...</td>\n",
       "      <td>-1.0</td>\n",
       "      <td>negative</td>\n",
       "    </tr>\n",
       "    <tr>\n",
       "      <th>25</th>\n",
       "      <td>Retail giant TARGET has now declined for 10 co...</td>\n",
       "      <td>-1.0</td>\n",
       "      <td>negative</td>\n",
       "    </tr>\n",
       "    <tr>\n",
       "      <th>62</th>\n",
       "      <td>The Trump administration is begging Xi Jinping...</td>\n",
       "      <td>-1.0</td>\n",
       "      <td>negative</td>\n",
       "    </tr>\n",
       "    <tr>\n",
       "      <th>95</th>\n",
       "      <td>Data Shows US Allies—Not China—Dumping Treasur...</td>\n",
       "      <td>-1.0</td>\n",
       "      <td>negative</td>\n",
       "    </tr>\n",
       "    <tr>\n",
       "      <th>125</th>\n",
       "      <td>The Trump administration is begging Xi Jinping...</td>\n",
       "      <td>-1.0</td>\n",
       "      <td>negative</td>\n",
       "    </tr>\n",
       "  </tbody>\n",
       "</table>\n",
       "</div>"
      ]
     },
     "execution_count": 26,
     "metadata": {},
     "output_type": "execute_result"
    }
   ],
   "execution_count": 26
  },
  {
   "metadata": {
    "ExecuteTime": {
     "end_time": "2025-10-05T03:29:26.835077Z",
     "start_time": "2025-10-05T03:29:26.795751Z"
    }
   },
   "cell_type": "code",
   "source": [
    "# ==========================================\n",
    "# Exercise 4\n",
    "# ==========================================\n",
    "# Check for missing values\n",
    "X.isnull().sum()\n",
    "\n",
    "# Check missing values per column with the helper function\n",
    "X.isnull().apply(lambda x: f\"Missing: {x.sum()}\")\n",
    "\n",
    "# Add a dummy record with missing value to test\n",
    "dummy_dict = [{'text': 'dummy stock comment',\n",
    "               'category': 1}]\n",
    "X = pd.concat([X, pd.DataFrame(dummy_dict)], ignore_index=True)\n",
    "X.isnull().sum() # Check again - should show some missing in category_name\n",
    "X.dropna(inplace=True) # Remove records with missing values\n",
    "X.isnull().sum() # Verify no missing values remain\n",
    "\n",
    "# Calculate missing values in every record instead of every column\n",
    "X.isnull().apply(lambda x: x.sum(), axis=1)"
   ],
   "outputs": [
    {
     "data": {
      "text/plain": [
       "0      0\n",
       "1      0\n",
       "2      0\n",
       "3      0\n",
       "4      0\n",
       "      ..\n",
       "842    0\n",
       "843    0\n",
       "844    0\n",
       "845    0\n",
       "846    0\n",
       "Length: 847, dtype: int64"
      ]
     },
     "execution_count": 37,
     "metadata": {},
     "output_type": "execute_result"
    }
   ],
   "execution_count": 37
  },
  {
   "metadata": {
    "ExecuteTime": {
     "end_time": "2025-10-05T03:31:38.020539Z",
     "start_time": "2025-10-05T03:31:37.975198Z"
    }
   },
   "cell_type": "code",
   "source": [
    "# ==========================================\n",
    "# Exercise 5\n",
    "# ==========================================\n",
    "NA_dict = [{ 'id': 'A', 'sentiment': np.nan },\n",
    "           { 'id': 'B' },\n",
    "           { 'id': 'C', 'sentiment': 'NaN'  },\n",
    "           { 'id': 'D', 'sentiment': 'None' },\n",
    "           { 'id': 'E', 'sentiment':  None  },\n",
    "           { 'id': 'F', 'sentiment': ''     }]\n",
    "\n",
    "NA_df = pd.DataFrame(NA_dict, columns = ['id','sentiment'])\n",
    "NA_df\n",
    "\n",
    "# Check which ones are detected as null\n",
    "NA_df['sentiment'].isnull()\n",
    "\n",
    "# .isnull() detects actual null values, not string representations.\n",
    "# A: np.nan → Real NaN value → .isnull() = True\n",
    "# B: Missing key → Fill with NaN → .isnull() = True\n",
    "# C: 'NaN' → \"NaN\" as text → .isnull() = False\n",
    "# D: 'None' → \"None\" as text → .isnull() = False\n",
    "# E: None → Python's None object → .isnull() = True\n",
    "# F: '' → Empty string is a valid string) → .isnull() = False"
   ],
   "outputs": [
    {
     "data": {
      "text/plain": [
       "0     True\n",
       "1     True\n",
       "2    False\n",
       "3    False\n",
       "4     True\n",
       "5    False\n",
       "Name: sentiment, dtype: bool"
      ]
     },
     "execution_count": 38,
     "metadata": {},
     "output_type": "execute_result"
    }
   ],
   "execution_count": 38
  },
  {
   "metadata": {
    "ExecuteTime": {
     "end_time": "2025-10-05T03:39:08.146550Z",
     "start_time": "2025-10-05T03:39:08.140871Z"
    }
   },
   "cell_type": "code",
   "source": [
    "# ==========================================\n",
    "# Exercise 6\n",
    "# ==========================================\n",
    "# Sampling\n",
    "X_sample = X.sample(n=500, random_state=42)\n",
    "print(f\"Original size: {len(X)}\")\n",
    "print(f\"Sample size: {len(X_sample)}\")\n",
    "# Check columns are same\n",
    "print(f\"Same columns: {X.columns.equals(X_sample.columns)}\")\n",
    "# Check index changes\n",
    "print(f\"Sample indices (first 5): {X_sample.index[:5].tolist()}\")\n",
    "# Compare distributions\n",
    "print(\"\\nOriginal distribution:\")\n",
    "print(X['category_name'].value_counts(normalize=True))\n",
    "print(\"\\nSample distribution:\")\n",
    "print(X_sample['category_name'].value_counts(normalize=True))\n",
    "\n",
    "# X_sample has 500 lines, while X has 847 lines, but they have the same columns\n",
    "# Data types and column names are unchanged, because X_sample is the subset of X\n",
    "# X_sample is chosen randomly, no replacement.\n",
    "# Row order is shuffled, but index label is preserved.\n",
    "# Category distribution of X_sample may different from X due to sample variability\n"
   ],
   "outputs": [
    {
     "name": "stdout",
     "output_type": "stream",
     "text": [
      "Original size: 847\n",
      "Sample size: 500\n",
      "Same columns: True\n",
      "Sample indices (first 5): [457, 342, 280, 275, 843]\n",
      "\n",
      "Original distribution:\n",
      "category_name\n",
      "neutral     0.499410\n",
      "negative    0.371901\n",
      "positive    0.128689\n",
      "Name: proportion, dtype: float64\n",
      "\n",
      "Sample distribution:\n",
      "category_name\n",
      "neutral     0.494\n",
      "negative    0.368\n",
      "positive    0.138\n",
      "Name: proportion, dtype: float64\n"
     ]
    }
   ],
   "execution_count": 46
  },
  {
   "metadata": {
    "ExecuteTime": {
     "end_time": "2025-10-05T03:47:02.491462Z",
     "start_time": "2025-10-05T03:47:02.399729Z"
    }
   },
   "cell_type": "code",
   "source": [
    "# ==========================================\n",
    "# Exercise 7\n",
    "# ==========================================\n",
    "# Whole dataset\n",
    "X['category_name'].value_counts().plot(\n",
    "    kind='bar',\n",
    "    title='Original Distribution',\n",
    "    ylim=[0, X['category_name'].value_counts().max() + 50],\n",
    "    rot=0, fontsize=12, figsize=(8,3)\n",
    ")\n",
    "\n",
    "# Sample\n",
    "X_sample.category_name.value_counts().plot(\n",
    "    kind='bar',\n",
    "    title='Category distribution',\n",
    "    ylim=[0, X_sample.category_name.value_counts().max() + 30],\n",
    "    rot=0, fontsize=12, figsize=(8, 3)\n",
    ")"
   ],
   "outputs": [
    {
     "data": {
      "text/plain": [
       "<Axes: title={'center': 'Category distribution'}, xlabel='category_name'>"
      ]
     },
     "execution_count": 49,
     "metadata": {},
     "output_type": "execute_result"
    },
    {
     "data": {
      "text/plain": [
       "<Figure size 800x300 with 1 Axes>"
      ],
      "image/png": "[encoded data removed]"
     },
     "metadata": {},
     "output_type": "display_data"
    }
   ],
   "execution_count": 49
  },
  {
   "metadata": {
    "ExecuteTime": {
     "end_time": "2025-10-05T04:00:20.112528Z",
     "start_time": "2025-10-05T04:00:19.931087Z"
    }
   },
   "cell_type": "code",
   "source": [
    "# ==========================================\n",
    "# Exercise 8\n",
    "# ==========================================\n",
    "# Feature Creation\n",
    "import nltk\n",
    "nltk.download('punkt', quiet=True)\n",
    "from sklearn.feature_extraction.text import CountVectorizer\n",
    "def tokenize_text(text):\n",
    "    return nltk.word_tokenize(str(text))\n",
    "X['unigrams'] = X['text'].apply(tokenize_text)\n",
    "# Display sample unigrams\n",
    "print(\"Sample unigrams from first 3 posts:\")\n",
    "for i in range(3):\n",
    "    print(f\"Post {i+1} (first 10 tokens): {X['unigrams'].iloc[i][:10]}\")\n",
    "\n",
    "# Side-by-side comparison of distributions\n",
    "df = pd.DataFrame({\n",
    "    \"X\": X['category_name'].value_counts(),\n",
    "    \"X_sample\": X_sample['category_name'].value_counts()\n",
    "}).fillna(0).astype(int)\n",
    "\n",
    "ax = df.plot(kind=\"bar\",\n",
    "             title=\"Category distribution\",\n",
    "             rot=0, fontsize=11, figsize=(8,5))\n",
    "\n",
    "ax.set_ylim(0, df.to_numpy().max() + 30)"
   ],
   "outputs": [
    {
     "name": "stdout",
     "output_type": "stream",
     "text": [
      "Sample unigrams from first 3 posts:\n",
      "Post 1 (first 10 tokens): ['Retardation', 'is', 'on', 'the', 'menu', 'boys', '!', 'WSB', 'is', 'so']\n",
      "Post 2 (first 10 tokens): ['Retail', 'giant', 'TARGET', 'has', 'now', 'declined', 'for', '10', 'consecutive', 'weeks']\n",
      "Post 3 (first 10 tokens): ['How', 'do', 'you', 'feel', 'about', 'a', 'sitting', 'president', 'making', '$']\n"
     ]
    },
    {
     "name": "stderr",
     "output_type": "stream",
     "text": [
      "[nltk_data] Error loading punkt: <urlopen error [SSL:\n",
      "[nltk_data]     CERTIFICATE_VERIFY_FAILED] certificate verify failed:\n",
      "[nltk_data]     unable to get local issuer certificate (_ssl.c:1028)>\n"
     ]
    },
    {
     "data": {
      "text/plain": [
       "(0.0, 453.0)"
      ]
     },
     "execution_count": 61,
     "metadata": {},
     "output_type": "execute_result"
    },
    {
     "data": {
      "text/plain": [
       "<Figure size 800x500 with 1 Axes>"
      ],
      "image/png": "[encoded data removed]"
     },
     "metadata": {},
     "output_type": "display_data"
    }
   ],
   "execution_count": 61
  },
  {
   "metadata": {
    "ExecuteTime": {
     "end_time": "2025-10-05T04:01:23.249240Z",
     "start_time": "2025-10-05T04:01:23.164678Z"
    }
   },
   "cell_type": "code",
   "source": [
    "# ==========================================\n",
    "# Exercise 9\n",
    "# ==========================================\n",
    "# Feature Subset Selection\n",
    "count_vect = CountVectorizer()\n",
    "X_counts = count_vect.fit_transform(X['text'])\n",
    "print(f\"\\nDocument-term matrix shape: {X_counts.shape}\")\n",
    "print(f\"Vocabulary size: {X_counts.shape[1]}\")\n",
    "\n",
    "# Get feature names\n",
    "feature_names = count_vect.get_feature_names_out()\n",
    "print(f\"First 10 features: {feature_names[:10]}\")\n",
    "\n",
    "# Analyze the first record\n",
    "from sklearn.feature_extraction.text import CountVectorizer\n",
    "count_vect = CountVectorizer()\n",
    "count_vect.fit(X['text'])\n",
    "analyze = count_vect.build_analyzer()\n",
    "# Analyze first Reddit post\n",
    "analyze(X['text'][0])\n"
   ],
   "outputs": [
    {
     "name": "stdout",
     "output_type": "stream",
     "text": [
      "\n",
      "Document-term matrix shape: (847, 4508)\n",
      "Vocabulary size: 4508\n",
      "First 10 features: ['00' '000' '01378' '02' '027' '03' '04' '06' '08' '10']\n"
     ]
    },
    {
     "data": {
      "text/plain": [
       "['retardation',\n",
       " 'is',\n",
       " 'on',\n",
       " 'the',\n",
       " 'menu',\n",
       " 'boys',\n",
       " 'wsb',\n",
       " 'is',\n",
       " 'so',\n",
       " 'back',\n",
       " 'calls',\n",
       " 'on',\n",
       " 'retards']"
      ]
     },
     "execution_count": 62,
     "metadata": {},
     "output_type": "execute_result"
    }
   ],
   "execution_count": 62
  },
  {
   "metadata": {
    "ExecuteTime": {
     "end_time": "2025-10-05T04:11:00.056489Z",
     "start_time": "2025-10-05T04:11:00.028001Z"
    }
   },
   "cell_type": "code",
   "source": [
    "# ==========================================\n",
    "# Exercise 10\n",
    "# ==========================================\n",
    "X_counts.shape\n",
    "X_counts[0:5, 0:100].toarray()"
   ],
   "outputs": [
    {
     "data": {
      "text/plain": [
       "array([[0, 0, 0, 0, 0, 0, 0, 0, 0, 0, 0, 0, 0, 0, 0, 0, 0, 0, 0, 0, 0, 0,\n",
       "        0, 0, 0, 0, 0, 0, 0, 0, 0, 0, 0, 0, 0, 0, 0, 0, 0, 0, 0, 0, 0, 0,\n",
       "        0, 0, 0, 0, 0, 0, 0, 0, 0, 0, 0, 0, 0, 0, 0, 0, 0, 0, 0, 0, 0, 0,\n",
       "        0, 0, 0, 0, 0, 0, 0, 0, 0, 0, 0, 0, 0, 0, 0, 0, 0, 0, 0, 0, 0, 0,\n",
       "        0, 0, 0, 0, 0, 0, 0, 0, 0, 0, 0, 0],\n",
       "       [0, 0, 0, 0, 0, 0, 0, 0, 0, 1, 0, 0, 0, 0, 0, 0, 0, 0, 0, 0, 0, 0,\n",
       "        0, 0, 0, 0, 0, 0, 0, 0, 0, 0, 0, 0, 0, 0, 0, 0, 0, 0, 0, 0, 0, 0,\n",
       "        0, 0, 0, 0, 0, 0, 0, 0, 0, 0, 0, 0, 0, 0, 0, 0, 0, 0, 0, 0, 0, 0,\n",
       "        0, 0, 0, 0, 0, 0, 0, 0, 0, 0, 0, 0, 0, 0, 0, 0, 0, 0, 0, 0, 0, 0,\n",
       "        0, 0, 0, 0, 0, 0, 0, 0, 0, 0, 0, 0],\n",
       "       [0, 0, 0, 0, 0, 0, 0, 0, 0, 0, 0, 0, 0, 0, 0, 0, 0, 0, 0, 0, 0, 0,\n",
       "        0, 0, 0, 0, 0, 0, 0, 0, 0, 0, 0, 0, 0, 0, 0, 0, 0, 0, 0, 0, 0, 0,\n",
       "        0, 0, 0, 0, 0, 0, 0, 0, 0, 0, 0, 0, 0, 0, 0, 0, 0, 0, 0, 0, 0, 0,\n",
       "        0, 0, 0, 0, 0, 0, 0, 0, 0, 0, 0, 0, 0, 0, 0, 0, 0, 0, 0, 0, 0, 0,\n",
       "        0, 0, 0, 0, 0, 0, 0, 0, 0, 0, 0, 0],\n",
       "       [0, 0, 0, 0, 0, 0, 0, 0, 0, 0, 0, 0, 0, 0, 0, 0, 0, 0, 0, 3, 0, 0,\n",
       "        0, 0, 0, 0, 0, 0, 0, 0, 0, 0, 0, 0, 0, 0, 0, 0, 0, 0, 0, 0, 0, 0,\n",
       "        0, 0, 0, 0, 0, 0, 0, 0, 0, 0, 0, 0, 0, 0, 0, 0, 0, 0, 0, 0, 0, 0,\n",
       "        0, 0, 0, 0, 0, 0, 0, 0, 0, 0, 0, 0, 0, 0, 0, 0, 0, 0, 0, 0, 0, 0,\n",
       "        0, 0, 0, 0, 0, 0, 0, 0, 0, 0, 0, 0],\n",
       "       [0, 0, 0, 0, 0, 0, 0, 0, 0, 0, 0, 0, 0, 0, 0, 0, 0, 0, 0, 0, 0, 0,\n",
       "        0, 0, 0, 0, 0, 0, 0, 0, 0, 0, 0, 0, 0, 0, 0, 0, 0, 0, 0, 0, 0, 0,\n",
       "        0, 0, 0, 0, 0, 0, 0, 0, 0, 0, 0, 0, 0, 0, 0, 0, 0, 0, 0, 0, 0, 0,\n",
       "        0, 0, 0, 0, 0, 0, 0, 0, 0, 0, 0, 0, 0, 0, 0, 0, 0, 0, 0, 0, 0, 0,\n",
       "        0, 0, 0, 0, 0, 0, 0, 0, 0, 0, 0, 0]])"
      ]
     },
     "execution_count": 77,
     "metadata": {},
     "output_type": "execute_result"
    }
   ],
   "execution_count": 77
  },
  {
   "metadata": {
    "ExecuteTime": {
     "end_time": "2025-10-05T04:11:04.197147Z",
     "start_time": "2025-10-05T04:11:04.191925Z"
    }
   },
   "cell_type": "code",
   "source": [
    "# Find which words correspond to non-zero values in the matrix\n",
    "vocab = count_vect.get_feature_names_out()\n",
    "\n",
    "# Row 2 has a 1 at position 9\n",
    "print(f\"Word at position 9: {vocab[9]}\")\n",
    "\n",
    "# Row 4 has a 3 at position 19\n",
    "print(f\"Word at position 19: {vocab[19]} (appears 3 times)\")\n",
    "\n",
    "# Check what these words are in the actual text\n",
    "print(f\"\\nRow 2 text: {X['text'][1][:100]}...\")\n",
    "print(f\"Row 4 text: {X['text'][3][:100]}...\")"
   ],
   "outputs": [
    {
     "name": "stdout",
     "output_type": "stream",
     "text": [
      "Word at position 9: 10\n",
      "Word at position 19: 116 (appears 3 times)\n",
      "\n",
      "Row 2 text: Retail giant TARGET has now declined for 10 consecutive weeks, its longest losing streak in history ...\n",
      "Row 4 text: Who knows more? $VMAR Vision Marine Technologies Inc. is rewriting the watercraft rulebook. Their co...\n"
     ]
    }
   ],
   "execution_count": 79
  },
  {
   "metadata": {
    "ExecuteTime": {
     "end_time": "2025-10-05T04:19:23.797085Z",
     "start_time": "2025-10-05T04:19:21.922802Z"
    }
   },
   "cell_type": "code",
   "source": [
    "# ==========================================\n",
    "# Exercise 11\n",
    "# ==========================================\n",
    "# Create heatmap of term-document matrix\n",
    "import matplotlib.pyplot as plt\n",
    "import seaborn as sns\n",
    "\n",
    "n_docs  = 50     # rows\n",
    "n_terms = 50      # columns\n",
    "plot_z = X_counts[0:n_docs, 0:n_terms].toarray()\n",
    "plot_x = [f\"term_{i}\" for i in range(n_terms)]\n",
    "plot_y = [f\"doc_{i}\"  for i in range(n_docs)]\n",
    "\n",
    "df_todraw = pd.DataFrame(plot_z, columns=plot_x, index=plot_y)\n",
    "plt.subplots(figsize=(12, 8))\n",
    "sns.heatmap(df_todraw, cmap=\"PuRd\", vmin=0, vmax=1, annot=True)\n",
    "plt.title(f\"Term–Document Heatmap ({n_docs} docs × {n_terms} terms)\")\n",
    "plt.show()"
   ],
   "outputs": [
    {
     "data": {
      "text/plain": [
       "<Figure size 1200x800 with 2 Axes>"
      ],
      "image/png": "[encoded data removed]"
     },
     "metadata": {},
     "output_type": "display_data"
    }
   ],
   "execution_count": 83
  },
  {
   "metadata": {
    "ExecuteTime": {
     "end_time": "2025-10-05T04:22:00.826027Z",
     "start_time": "2025-10-05T04:21:58.193026Z"
    }
   },
   "cell_type": "code",
   "source": [
    "# ==========================================\n",
    "# Exercise 12\n",
    "# ==========================================\n",
    "# Interactive visualization\n",
    "import plotly.express as px\n",
    "# Calculate term frequencies\n",
    "term_frequencies = np.asarray(X_counts.sum(axis=0))[0]\n",
    "# Get the vocabulary\n",
    "vocab = count_vect.get_feature_names_out()\n",
    "# Select top 50 most frequent terms\n",
    "top_indices = term_frequencies.argsort()[-50:][::-1]\n",
    "top_terms = [vocab[i] for i in top_indices]\n",
    "top_frequencies = [term_frequencies[i] for i in top_indices]\n",
    "# Create interactive bar chart with Plotly\n",
    "fig = px.bar(x=top_terms, y=top_frequencies,\n",
    "             title=\"Top 50 Most Frequent Terms in Reddit Stock Comments\",\n",
    "             labels={'x': 'Terms', 'y': 'Frequency'})\n",
    "fig.update_layout(xaxis_tickangle=-45)\n",
    "fig.show()"
   ],
   "outputs": [
    {
     "data": {
      "application/vnd.plotly.v1+json": {
       "data": [
        {
         "hovertemplate": "Terms=%{x}<br>Frequency=%{y}<extra></extra>",
         "legendgroup": "",
         "marker": {
          "color": "#636efa",
          "pattern": {
           "shape": ""
          }
         },
         "name": "",
         "orientation": "v",
         "showlegend": false,
         "textposition": "auto",
         "x": [
          "the",
          "to",
          "is",
          "and",
          "in",
          "of",
          "it",
          "trump",
          "for",
          "on",
          "you",
          "that",
          "this",
          "with",
          "china",
          "are",
          "us",
          "market",
          "just",
          "he",
          "they",
          "not",
          "all",
          "be",
          "will",
          "as",
          "2025",
          "now",
          "so",
          "if",
          "his",
          "about",
          "my",
          "stock",
          "stocks",
          "thread",
          "has",
          "tariffs",
          "11",
          "but",
          "we",
          "weekend",
          "one",
          "discussion",
          "how",
          "do",
          "have",
          "at",
          "president",
          "tariff"
         ],
         "xaxis": "x",
         "y": {
          "dtype": "i2",
          "bdata": "7gQIAyoCHQKZAZgBjQFXAVMBMAH4AO8A5wDUAMIAwQC0AJ0AnACbAJoAlwCXAJAAjgCOAIUAfgB7AHoAeAB3AHQAcgBwAG0AbABsAGwAbABsAGsAaQBnAGUAZQBkAGQAYgBiAA=="
         },
         "yaxis": "y",
         "type": "bar"
        }
       ],
       "layout": {
        "template": {
         "data": {
          "histogram2dcontour": [
           {
            "type": "histogram2dcontour",
            "colorbar": {
             "outlinewidth": 0,
             "ticks": ""
            },
            "colorscale": [
             [
              0.0,
              "#0d0887"
             ],
             [
              0.1111111111111111,
              "#46039f"
             ],
             [
              0.2222222222222222,
              "#7201a8"
             ],
             [
              0.3333333333333333,
              "#9c179e"
             ],
             [
              0.4444444444444444,
              "#bd3786"
             ],
             [
              0.5555555555555556,
              "#d8576b"
             ],
             [
              0.6666666666666666,
              "#ed7953"
             ],
             [
              0.7777777777777778,
              "#fb9f3a"
             ],
             [
              0.8888888888888888,
              "#fdca26"
             ],
             [
              1.0,
              "#f0f921"
             ]
            ]
           }
          ],
          "choropleth": [
           {
            "type": "choropleth",
            "colorbar": {
             "outlinewidth": 0,
             "ticks": ""
            }
           }
          ],
          "histogram2d": [
           {
            "type": "histogram2d",
            "colorbar": {
             "outlinewidth": 0,
             "ticks": ""
            },
            "colorscale": [
             [
              0.0,
              "#0d0887"
             ],
             [
              0.1111111111111111,
              "#46039f"
             ],
             [
              0.2222222222222222,
              "#7201a8"
             ],
             [
              0.3333333333333333,
              "#9c179e"
             ],
             [
              0.4444444444444444,
              "#bd3786"
             ],
             [
              0.5555555555555556,
              "#d8576b"
             ],
             [
              0.6666666666666666,
              "#ed7953"
             ],
             [
              0.7777777777777778,
              "#fb9f3a"
             ],
             [
              0.8888888888888888,
              "#fdca26"
             ],
             [
              1.0,
              "#f0f921"
             ]
            ]
           }
          ],
          "heatmap": [
           {
            "type": "heatmap",
            "colorbar": {
             "outlinewidth": 0,
             "ticks": ""
            },
            "colorscale": [
             [
              0.0,
              "#0d0887"
             ],
             [
              0.1111111111111111,
              "#46039f"
             ],
             [
              0.2222222222222222,
              "#7201a8"
             ],
             [
              0.3333333333333333,
              "#9c179e"
             ],
             [
              0.4444444444444444,
              "#bd3786"
             ],
             [
              0.5555555555555556,
              "#d8576b"
             ],
             [
              0.6666666666666666,
              "#ed7953"
             ],
             [
              0.7777777777777778,
              "#fb9f3a"
             ],
             [
              0.8888888888888888,
              "#fdca26"
             ],
             [
              1.0,
              "#f0f921"
             ]
            ]
           }
          ],
          "contourcarpet": [
           {
            "type": "contourcarpet",
            "colorbar": {
             "outlinewidth": 0,
             "ticks": ""
            }
           }
          ],
          "contour": [
           {
            "type": "contour",
            "colorbar": {
             "outlinewidth": 0,
             "ticks": ""
            },
            "colorscale": [
             [
              0.0,
              "#0d0887"
             ],
             [
              0.1111111111111111,
              "#46039f"
             ],
             [
              0.2222222222222222,
              "#7201a8"
             ],
             [
              0.3333333333333333,
              "#9c179e"
             ],
             [
              0.4444444444444444,
              "#bd3786"
             ],
             [
              0.5555555555555556,
              "#d8576b"
             ],
             [
              0.6666666666666666,
              "#ed7953"
             ],
             [
              0.7777777777777778,
              "#fb9f3a"
             ],
             [
              0.8888888888888888,
              "#fdca26"
             ],
             [
              1.0,
              "#f0f921"
             ]
            ]
           }
          ],
          "surface": [
           {
            "type": "surface",
            "colorbar": {
             "outlinewidth": 0,
             "ticks": ""
            },
            "colorscale": [
             [
              0.0,
              "#0d0887"
             ],
             [
              0.1111111111111111,
              "#46039f"
             ],
             [
              0.2222222222222222,
              "#7201a8"
             ],
             [
              0.3333333333333333,
              "#9c179e"
             ],
             [
              0.4444444444444444,
              "#bd3786"
             ],
             [
              0.5555555555555556,
              "#d8576b"
             ],
             [
              0.6666666666666666,
              "#ed7953"
             ],
             [
              0.7777777777777778,
              "#fb9f3a"
             ],
             [
              0.8888888888888888,
              "#fdca26"
             ],
             [
              1.0,
              "#f0f921"
             ]
            ]
           }
          ],
          "mesh3d": [
           {
            "type": "mesh3d",
            "colorbar": {
             "outlinewidth": 0,
             "ticks": ""
            }
           }
          ],
          "scatter": [
           {
            "marker": {
             "line": {
              "color": "#283442"
             }
            },
            "type": "scatter"
           }
          ],
          "parcoords": [
           {
            "type": "parcoords",
            "line": {
             "colorbar": {
              "outlinewidth": 0,
              "ticks": ""
             }
            }
           }
          ],
          "scatterpolargl": [
           {
            "type": "scatterpolargl",
            "marker": {
             "colorbar": {
              "outlinewidth": 0,
              "ticks": ""
             }
            }
           }
          ],
          "bar": [
           {
            "error_x": {
             "color": "#f2f5fa"
            },
            "error_y": {
             "color": "#f2f5fa"
            },
            "marker": {
             "line": {
              "color": "rgb(17,17,17)",
              "width": 0.5
             },
             "pattern": {
              "fillmode": "overlay",
              "size": 10,
              "solidity": 0.2
             }
            },
            "type": "bar"
           }
          ],
          "scattergeo": [
           {
            "type": "scattergeo",
            "marker": {
             "colorbar": {
              "outlinewidth": 0,
              "ticks": ""
             }
            }
           }
          ],
          "scatterpolar": [
           {
            "type": "scatterpolar",
            "marker": {
             "colorbar": {
              "outlinewidth": 0,
              "ticks": ""
             }
            }
           }
          ],
          "histogram": [
           {
            "marker": {
             "pattern": {
              "fillmode": "overlay",
              "size": 10,
              "solidity": 0.2
             }
            },
            "type": "histogram"
           }
          ],
          "scattergl": [
           {
            "marker": {
             "line": {
              "color": "#283442"
             }
            },
            "type": "scattergl"
           }
          ],
          "scatter3d": [
           {
            "type": "scatter3d",
            "line": {
             "colorbar": {
              "outlinewidth": 0,
              "ticks": ""
             }
            },
            "marker": {
             "colorbar": {
              "outlinewidth": 0,
              "ticks": ""
             }
            }
           }
          ],
          "scattermap": [
           {
            "type": "scattermap",
            "marker": {
             "colorbar": {
              "outlinewidth": 0,
              "ticks": ""
             }
            }
           }
          ],
          "scattermapbox": [
           {
            "type": "scattermapbox",
            "marker": {
             "colorbar": {
              "outlinewidth": 0,
              "ticks": ""
             }
            }
           }
          ],
          "scatterternary": [
           {
            "type": "scatterternary",
            "marker": {
             "colorbar": {
              "outlinewidth": 0,
              "ticks": ""
             }
            }
           }
          ],
          "scattercarpet": [
           {
            "type": "scattercarpet",
            "marker": {
             "colorbar": {
              "outlinewidth": 0,
              "ticks": ""
             }
            }
           }
          ],
          "carpet": [
           {
            "aaxis": {
             "endlinecolor": "#A2B1C6",
             "gridcolor": "#506784",
             "linecolor": "#506784",
             "minorgridcolor": "#506784",
             "startlinecolor": "#A2B1C6"
            },
            "baxis": {
             "endlinecolor": "#A2B1C6",
             "gridcolor": "#506784",
             "linecolor": "#506784",
             "minorgridcolor": "#506784",
             "startlinecolor": "#A2B1C6"
            },
            "type": "carpet"
           }
          ],
          "table": [
           {
            "cells": {
             "fill": {
              "color": "#506784"
             },
             "line": {
              "color": "rgb(17,17,17)"
             }
            },
            "header": {
             "fill": {
              "color": "#2a3f5f"
             },
             "line": {
              "color": "rgb(17,17,17)"
             }
            },
            "type": "table"
           }
          ],
          "barpolar": [
           {
            "marker": {
             "line": {
              "color": "rgb(17,17,17)",
              "width": 0.5
             },
             "pattern": {
              "fillmode": "overlay",
              "size": 10,
              "solidity": 0.2
             }
            },
            "type": "barpolar"
           }
          ],
          "pie": [
           {
            "automargin": true,
            "type": "pie"
           }
          ]
         },
         "layout": {
          "autotypenumbers": "strict",
          "colorway": [
           "#636efa",
           "#EF553B",
           "#00cc96",
           "#ab63fa",
           "#FFA15A",
           "#19d3f3",
           "#FF6692",
           "#B6E880",
           "#FF97FF",
           "#FECB52"
          ],
          "font": {
           "color": "#f2f5fa"
          },
          "hovermode": "closest",
          "hoverlabel": {
           "align": "left"
          },
          "paper_bgcolor": "rgb(17,17,17)",
          "plot_bgcolor": "rgb(17,17,17)",
          "polar": {
           "bgcolor": "rgb(17,17,17)",
           "angularaxis": {
            "gridcolor": "#506784",
            "linecolor": "#506784",
            "ticks": ""
           },
           "radialaxis": {
            "gridcolor": "#506784",
            "linecolor": "#506784",
            "ticks": ""
           }
          },
          "ternary": {
           "bgcolor": "rgb(17,17,17)",
           "aaxis": {
            "gridcolor": "#506784",
            "linecolor": "#506784",
            "ticks": ""
           },
           "baxis": {
            "gridcolor": "#506784",
            "linecolor": "#506784",
            "ticks": ""
           },
           "caxis": {
            "gridcolor": "#506784",
            "linecolor": "#506784",
            "ticks": ""
           }
          },
          "coloraxis": {
           "colorbar": {
            "outlinewidth": 0,
            "ticks": ""
           }
          },
          "colorscale": {
           "sequential": [
            [
             0.0,
             "#0d0887"
            ],
            [
             0.1111111111111111,
             "#46039f"
            ],
            [
             0.2222222222222222,
             "#7201a8"
            ],
            [
             0.3333333333333333,
             "#9c179e"
            ],
            [
             0.4444444444444444,
             "#bd3786"
            ],
            [
             0.5555555555555556,
             "#d8576b"
            ],
            [
             0.6666666666666666,
             "#ed7953"
            ],
            [
             0.7777777777777778,
             "#fb9f3a"
            ],
            [
             0.8888888888888888,
             "#fdca26"
            ],
            [
             1.0,
             "#f0f921"
            ]
           ],
           "sequentialminus": [
            [
             0.0,
             "#0d0887"
            ],
            [
             0.1111111111111111,
             "#46039f"
            ],
            [
             0.2222222222222222,
             "#7201a8"
            ],
            [
             0.3333333333333333,
             "#9c179e"
            ],
            [
             0.4444444444444444,
             "#bd3786"
            ],
            [
             0.5555555555555556,
             "#d8576b"
            ],
            [
             0.6666666666666666,
             "#ed7953"
            ],
            [
             0.7777777777777778,
             "#fb9f3a"
            ],
            [
             0.8888888888888888,
             "#fdca26"
            ],
            [
             1.0,
             "#f0f921"
            ]
           ],
           "diverging": [
            [
             0,
             "#8e0152"
            ],
            [
             0.1,
             "#c51b7d"
            ],
            [
             0.2,
             "#de77ae"
            ],
            [
             0.3,
             "#f1b6da"
            ],
            [
             0.4,
             "#fde0ef"
            ],
            [
             0.5,
             "#f7f7f7"
            ],
            [
             0.6,
             "#e6f5d0"
            ],
            [
             0.7,
             "#b8e186"
            ],
            [
             0.8,
             "#7fbc41"
            ],
            [
             0.9,
             "#4d9221"
            ],
            [
             1,
             "#276419"
            ]
           ]
          },
          "xaxis": {
           "gridcolor": "#283442",
           "linecolor": "#506784",
           "ticks": "",
           "title": {
            "standoff": 15
           },
           "zerolinecolor": "#283442",
           "automargin": true,
           "zerolinewidth": 2
          },
          "yaxis": {
           "gridcolor": "#283442",
           "linecolor": "#506784",
           "ticks": "",
           "title": {
            "standoff": 15
           },
           "zerolinecolor": "#283442",
           "automargin": true,
           "zerolinewidth": 2
          },
          "scene": {
           "xaxis": {
            "backgroundcolor": "rgb(17,17,17)",
            "gridcolor": "#506784",
            "linecolor": "#506784",
            "showbackground": true,
            "ticks": "",
            "zerolinecolor": "#C8D4E3",
            "gridwidth": 2
           },
           "yaxis": {
            "backgroundcolor": "rgb(17,17,17)",
            "gridcolor": "#506784",
            "linecolor": "#506784",
            "showbackground": true,
            "ticks": "",
            "zerolinecolor": "#C8D4E3",
            "gridwidth": 2
           },
           "zaxis": {
            "backgroundcolor": "rgb(17,17,17)",
            "gridcolor": "#506784",
            "linecolor": "#506784",
            "showbackground": true,
            "ticks": "",
            "zerolinecolor": "#C8D4E3",
            "gridwidth": 2
           }
          },
          "shapedefaults": {
           "line": {
            "color": "#f2f5fa"
           }
          },
          "annotationdefaults": {
           "arrowcolor": "#f2f5fa",
           "arrowhead": 0,
           "arrowwidth": 1
          },
          "geo": {
           "bgcolor": "rgb(17,17,17)",
           "landcolor": "rgb(17,17,17)",
           "subunitcolor": "#506784",
           "showland": true,
           "showlakes": true,
           "lakecolor": "rgb(17,17,17)"
          },
          "title": {
           "x": 0.05
          },
          "updatemenudefaults": {
           "bgcolor": "#506784",
           "borderwidth": 0
          },
          "sliderdefaults": {
           "bgcolor": "#C8D4E3",
           "borderwidth": 1,
           "bordercolor": "rgb(17,17,17)",
           "tickwidth": 0
          },
          "mapbox": {
           "style": "dark"
          }
         }
        },
        "xaxis": {
         "anchor": "y",
         "domain": [
          0.0,
          1.0
         ],
         "title": {
          "text": "Terms"
         },
         "tickangle": -45
        },
        "yaxis": {
         "anchor": "x",
         "domain": [
          0.0,
          1.0
         ],
         "title": {
          "text": "Frequency"
         }
        },
        "legend": {
         "tracegroupgap": 0
        },
        "title": {
         "text": "Top 50 Most Frequent Terms in Reddit Stock Comments"
        },
        "barmode": "relative"
       },
       "config": {
        "plotlyServerURL": "https://plot.ly"
       }
      }
     },
     "metadata": {},
     "output_type": "display_data"
    }
   ],
   "execution_count": 86
  },
  {
   "metadata": {
    "ExecuteTime": {
     "end_time": "2025-10-05T04:24:55.861360Z",
     "start_time": "2025-10-05T04:24:55.653565Z"
    }
   },
   "cell_type": "code",
   "source": [
    "# ==========================================\n",
    "# Exercise 13\n",
    "# ==========================================\n",
    "# Calculate term frequencies\n",
    "term_frequencies = np.asarray(X_counts.sum(axis=0))[0]\n",
    "vocab = count_vect.get_feature_names_out()\n",
    "print(f\"Total vocabulary size: {len(vocab)} terms\")\n",
    "# Take top 30 most frequent words\n",
    "top_30_indices = term_frequencies.argsort()[-30:][::-1]\n",
    "top_30_terms = [vocab[i] for i in top_30_indices]\n",
    "top_30_freqs = [term_frequencies[i] for i in top_30_indices]\n",
    "\n",
    "# Visualize only these 30 terms\n",
    "plt.figure(figsize=(12, 5))\n",
    "plt.bar(range(30), top_30_freqs)\n",
    "plt.xticks(range(30), top_30_terms, rotation=90)\n",
    "plt.xlabel('Terms')\n",
    "plt.ylabel('Frequency')\n",
    "plt.title('Top 30 Terms Only (Reduced for Better Visualization)')\n",
    "plt.tight_layout()\n",
    "plt.show()\n",
    "\n",
    "print(f\"Reduced from {len(vocab)} to 30 terms for cleaner visualization\")"
   ],
   "outputs": [
    {
     "name": "stdout",
     "output_type": "stream",
     "text": [
      "Total vocabulary size: 4508 terms\n"
     ]
    },
    {
     "data": {
      "text/plain": [
       "<Figure size 1200x500 with 1 Axes>"
      ],
      "image/png": "[encoded data removed]"
     },
     "metadata": {},
     "output_type": "display_data"
    },
    {
     "name": "stdout",
     "output_type": "stream",
     "text": [
      "Reduced from 4508 to 30 terms for cleaner visualization\n"
     ]
    }
   ],
   "execution_count": 89
  },
  {
   "metadata": {
    "ExecuteTime": {
     "end_time": "2025-10-05T04:29:01.159045Z",
     "start_time": "2025-10-05T04:29:00.902131Z"
    }
   },
   "cell_type": "code",
   "source": [
    "# ==========================================\n",
    "# Exercise 14\n",
    "# ==========================================\n",
    "# # Create the long-tail visualization\n",
    "import numpy as np\n",
    "import matplotlib.pyplot as plt\n",
    "# Calculate term frequencies\n",
    "term_frequencies = np.asarray(X_counts.sum(axis=0))[0]\n",
    "# Sort by frequency (descending)\n",
    "idx = np.argsort(term_frequencies)[::-1]\n",
    "sorted_freqs = term_frequencies[idx].astype(float)\n",
    "x = np.arange(1, len(sorted_freqs) + 1)\n",
    "# Define head as top 20% of terms\n",
    "head_cut = max(1, int(0.2 * len(sorted_freqs)))\n",
    "\n",
    "# Plot\n",
    "plt.figure(figsize=(12, 6))\n",
    "plt.plot(x, sorted_freqs, linewidth=3, color=\"#9e9e9e\")  # curve\n",
    "plt.fill_between(x[:head_cut], sorted_freqs[:head_cut], 1e-6, color=\"#D6FF5B\", alpha=0.95)  # head (top 20%)\n",
    "plt.fill_between(x[head_cut-1:], sorted_freqs[head_cut-1:], 1e-6, color=\"#FFF95E\", alpha=0.95)\n",
    "plt.axvline(head_cut, linewidth=2, color=\"#9e9e9e\")\n",
    "plt.yscale(\"log\")\n",
    "plt.xlabel(\"Rank (1 = most frequent)\")\n",
    "plt.ylabel(\"Frequency\")\n",
    "plt.title(\"Long-Tail of Term Frequencies - Reddit Stock Comments\")\n",
    "plt.tight_layout()\n",
    "plt.show()"
   ],
   "outputs": [
    {
     "data": {
      "text/plain": [
       "<Figure size 1200x600 with 1 Axes>"
      ],
      "image/png": "[encoded data removed]"
     },
     "metadata": {},
     "output_type": "display_data"
    }
   ],
   "execution_count": 94
  },
  {
   "metadata": {
    "ExecuteTime": {
     "end_time": "2025-10-05T04:32:33.524203Z",
     "start_time": "2025-10-05T04:32:33.396722Z"
    }
   },
   "cell_type": "code",
   "source": [
    "# ==========================================\n",
    "# Exercise 15\n",
    "# ==========================================\n",
    "# Log distribution\n",
    "# Calculate term frequencies (if not already done)\n",
    "term_frequencies = np.asarray(X_counts.sum(axis=0))[0]\n",
    "\n",
    "# Convert to float and sort\n",
    "freqs = np.asarray(term_frequencies, dtype=float)\n",
    "rank_idx = np.argsort(freqs)[::-1]\n",
    "rank = np.arange(1, len(freqs) + 1)\n",
    "y_log = np.log1p(freqs[rank_idx])  # log transform AFTER ranking\n",
    "\n",
    "# Define head as top 20% of terms\n",
    "head_cut = max(1, int(0.2 * len(y_log)))\n",
    "\n",
    "# Create visualization\n",
    "plt.figure(figsize=(12, 6))\n",
    "plt.plot(rank, y_log, linewidth=2)\n",
    "plt.fill_between(rank[:head_cut], y_log[:head_cut], color=\"#D6FF5B\", alpha=0.3)  # head\n",
    "plt.fill_between(rank[head_cut-1:], y_log[head_cut-1:], color=\"#FFF95E\", alpha=0.15)  # tail\n",
    "plt.axvline(head_cut, linewidth=1)\n",
    "plt.xlabel(\"Rank (1 = most frequent)\")\n",
    "plt.ylabel(\"log(1 + frequency)\")\n",
    "plt.title(\"Long Tail - Reddit Stock Comments (log-transformed)\")\n",
    "plt.tight_layout()\n",
    "plt.show()\n",
    "\n",
    "# The log transformation makes the curve flatter:\n",
    "# Head compresses (high frequencies are less extreme)\n",
    "# Tail lifts (low frequencies are more visible)\n",
    "# Easier to see mid-frequency terms\n",
    "# log1p avoids issues with zero frequencies"
   ],
   "outputs": [
    {
     "data": {
      "text/plain": [
       "<Figure size 1200x600 with 1 Axes>"
      ],
      "image/png": "[encoded data removed]"
     },
     "metadata": {},
     "output_type": "display_data"
    }
   ],
   "execution_count": 97
  },
  {
   "cell_type": "markdown",
   "metadata": {},
   "source": [
    "# Phase 2"
   ]
  },
  {
   "cell_type": "code",
   "execution_count": null,
   "metadata": {},
   "outputs": [],
   "source": [
    "### Begin Assignment Here"
   ]
  }
 ],
 "metadata": {
  "kernelspec": {
   "display_name": "Python 3 (ipykernel)",
   "language": "python",
   "name": "python3"
  },
  "language_info": {
   "codemirror_mode": {
    "name": "ipython",
    "version": 3
   },
   "file_extension": ".py",
   "mimetype": "text/x-python",
   "name": "python",
   "nbconvert_exporter": "python",
   "pygments_lexer": "ipython3",
   "version": "3.11.0"
  }
 },
 "nbformat": 4,
 "nbformat_minor": 4
}
